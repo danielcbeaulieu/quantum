{
 "cells": [
  {
   "cell_type": "markdown",
   "metadata": {
    "id": "Ku-7Vgb2Jroq"
   },
   "source": [
    "# Quantum-enhanced Support Vector Machine (QSVM)\n",
    "\n",
    "Classification algorithms and methods for machine learning are essential for pattern recognition and data mining applications. Well known techniques such as support vector machines and neural networks have blossomed over the last two decades as a result of the spectacular advances in classical hardware computational capabilities and speed. This progress in computer power made it possible to apply techniques, that were theoretically developed towards the middle of the 20th century, on classification problems that were becoming increasingly challenging.\n",
    "\n",
    "A key concept in classification methods is that of a kernel. Data cannot typically be separated by a hyperplane in its original space. A common technique used to find such a hyperplane consists of applying a non-linear transformation function to the data. This function is called a feature map, as it transforms the raw features, or measurable properties, of the phenomenon or subject under study. Classifying in this new feature space -and, as a matter of fact, also in any other space, including the raw original one- is nothing more than seeing how close data points are to each other. This is the same as computing the inner product for each pair of data points in the set. So, in fact we do not need to compute the non-linear feature map for each datum, but only the inner product of each pair of data points in the new feature space. This collection of inner products is called the kernel and it is perfectly possible to have feature maps that are hard to compute but whose kernels are not.\n",
    "\n",
    "In this notebook we provide an example of a classification problem that requires a feature map for which computing the kernel is not efficient classically -this means that the required computational resources are expected to scale exponentially with the size of the problem. We show how this can be solved in a quantum processor by a direct estimation of the kernel in the feature space. The method we used falls in the category of what is called supervised learning, consisting of a training phase (where the kernel is calculated and the support vectors obtained) and a test or classification phase (where new unlabeled data is classified according to the solution found in the training phase).\n",
    "\n",
    "References and additional details:\n",
    "\n",
    "[1] Vojtech Havlicek, Antonio D. C´orcoles, Kristan Temme, Aram W. Harrow, Abhinav Kandala, Jerry M. Chow, and Jay M. Gambetta1, \"Supervised learning with quantum enhanced feature spaces,\" [arXiv: 1804.11326](https://arxiv.org/pdf/1804.11326.pdf)"
   ]
  },
  {
   "cell_type": "code",
   "execution_count": 1,
   "metadata": {
    "id": "-v6yWMoBJro3"
   },
   "outputs": [],
   "source": [
    "import numpy as np\n",
    "import matplotlib.pyplot as plt\n",
    "import pandas as pd\n",
    "import csv\n",
    "import os\n",
    "\n",
    "from qiskit import BasicAer\n",
    "from qiskit.circuit.library import ZZFeatureMap\n",
    "from qiskit.aqua import QuantumInstance, aqua_globals, MissingOptionalLibraryError\n",
    "from qiskit.aqua.algorithms import QSVM\n",
    "from qiskit.aqua.components.multiclass_extensions import AllPairs\n",
    "from qiskit.ml.datasets import wine, iris, breast_cancer\n",
    "from qiskit.aqua.utils.dataset_helper import get_feature_dimension\n",
    "from qiskit.aqua.utils import split_dataset_to_data_and_labels, map_label_to_class_name\n",
    "\n",
    "import cvxpy \n",
    "from sklearn.datasets import load_iris, load_diabetes, load_wine\n",
    "from sklearn.model_selection import train_test_split\n",
    "from sklearn.preprocessing import StandardScaler, MinMaxScaler\n",
    "from sklearn.decomposition import PCA\n",
    "\n",
    "\n",
    "seed = 10599\n",
    "aqua_globals.random_seed = seed"
   ]
  },
  {
   "cell_type": "markdown",
   "metadata": {
    "id": "9n-7DwuWJro6"
   },
   "source": [
    "# MotorTrend Cars dataset  \n",
    "\n",
    "The MotorTrend Cars 2004 dataset is used to show how to load classical data from a csv into a format that is digestable for a quantum computer. The qSVM separates SUVs, sedans, and sports cars.  \n",
    "  \n",
    "The general approach is as follows:  \n",
    "1. Import csv data and create labels and target variable  \n",
    "2. Standardize/Normalize data so all values are on the same scale  \n",
    "3. Perform PCA to reduce number of columns using Principle Components Analysis dimenionality reduction to reduce the amount if columns to send to the quantum system while preserving useful information from the compressed variables. \n",
    "4. Create pairs of points and attach target labels to data dictionary prior to running qSVM\n",
    "5. Run QSVM to create hyperplane separating the three classes of data (SUV, Sedan, Sports) vehicle classes"
   ]
  },
  {
   "cell_type": "code",
   "execution_count": 140,
   "metadata": {
    "id": "me5g9A0sJro8",
    "outputId": "4a98a67a-3ccd-4182-92c3-b95d28864828"
   },
   "outputs": [
    {
     "data": {
      "text/html": [
       "<div>\n",
       "<style scoped>\n",
       "    .dataframe tbody tr th:only-of-type {\n",
       "        vertical-align: middle;\n",
       "    }\n",
       "\n",
       "    .dataframe tbody tr th {\n",
       "        vertical-align: top;\n",
       "    }\n",
       "\n",
       "    .dataframe thead th {\n",
       "        text-align: right;\n",
       "    }\n",
       "</style>\n",
       "<table border=\"1\" class=\"dataframe\">\n",
       "  <thead>\n",
       "    <tr style=\"text-align: right;\">\n",
       "      <th></th>\n",
       "      <th>Make</th>\n",
       "      <th>Model</th>\n",
       "      <th>Type</th>\n",
       "      <th>Origin</th>\n",
       "      <th>DriveTrain</th>\n",
       "      <th>MSRP</th>\n",
       "      <th>Invoice</th>\n",
       "      <th>EngineSize</th>\n",
       "      <th>Cylinders</th>\n",
       "      <th>Horsepower</th>\n",
       "      <th>MPG_City</th>\n",
       "      <th>MPG_Highway</th>\n",
       "      <th>Weight</th>\n",
       "      <th>Wheelbase</th>\n",
       "      <th>Length</th>\n",
       "    </tr>\n",
       "  </thead>\n",
       "  <tbody>\n",
       "    <tr>\n",
       "      <th>0</th>\n",
       "      <td>Acura</td>\n",
       "      <td>MDX</td>\n",
       "      <td>SUV</td>\n",
       "      <td>Asia</td>\n",
       "      <td>All</td>\n",
       "      <td>36945</td>\n",
       "      <td>33337</td>\n",
       "      <td>3.5</td>\n",
       "      <td>6.0</td>\n",
       "      <td>265</td>\n",
       "      <td>17</td>\n",
       "      <td>23</td>\n",
       "      <td>4451</td>\n",
       "      <td>106</td>\n",
       "      <td>189</td>\n",
       "    </tr>\n",
       "    <tr>\n",
       "      <th>1</th>\n",
       "      <td>Acura</td>\n",
       "      <td>RSX Type S 2dr</td>\n",
       "      <td>Sedan</td>\n",
       "      <td>Asia</td>\n",
       "      <td>Front</td>\n",
       "      <td>23820</td>\n",
       "      <td>21761</td>\n",
       "      <td>2.0</td>\n",
       "      <td>4.0</td>\n",
       "      <td>200</td>\n",
       "      <td>24</td>\n",
       "      <td>31</td>\n",
       "      <td>2778</td>\n",
       "      <td>101</td>\n",
       "      <td>172</td>\n",
       "    </tr>\n",
       "    <tr>\n",
       "      <th>2</th>\n",
       "      <td>Acura</td>\n",
       "      <td>TSX 4dr</td>\n",
       "      <td>Sedan</td>\n",
       "      <td>Asia</td>\n",
       "      <td>Front</td>\n",
       "      <td>26990</td>\n",
       "      <td>24647</td>\n",
       "      <td>2.4</td>\n",
       "      <td>4.0</td>\n",
       "      <td>200</td>\n",
       "      <td>22</td>\n",
       "      <td>29</td>\n",
       "      <td>3230</td>\n",
       "      <td>105</td>\n",
       "      <td>183</td>\n",
       "    </tr>\n",
       "    <tr>\n",
       "      <th>3</th>\n",
       "      <td>Acura</td>\n",
       "      <td>TL 4dr</td>\n",
       "      <td>Sedan</td>\n",
       "      <td>Asia</td>\n",
       "      <td>Front</td>\n",
       "      <td>33195</td>\n",
       "      <td>30299</td>\n",
       "      <td>3.2</td>\n",
       "      <td>6.0</td>\n",
       "      <td>270</td>\n",
       "      <td>20</td>\n",
       "      <td>28</td>\n",
       "      <td>3575</td>\n",
       "      <td>108</td>\n",
       "      <td>186</td>\n",
       "    </tr>\n",
       "    <tr>\n",
       "      <th>4</th>\n",
       "      <td>Acura</td>\n",
       "      <td>3.5 RL 4dr</td>\n",
       "      <td>Sedan</td>\n",
       "      <td>Asia</td>\n",
       "      <td>Front</td>\n",
       "      <td>43755</td>\n",
       "      <td>39014</td>\n",
       "      <td>3.5</td>\n",
       "      <td>6.0</td>\n",
       "      <td>225</td>\n",
       "      <td>18</td>\n",
       "      <td>24</td>\n",
       "      <td>3880</td>\n",
       "      <td>115</td>\n",
       "      <td>197</td>\n",
       "    </tr>\n",
       "  </tbody>\n",
       "</table>\n",
       "</div>"
      ],
      "text/plain": [
       "    Make            Model   Type Origin DriveTrain   MSRP  Invoice  \\\n",
       "0  Acura              MDX    SUV   Asia        All  36945    33337   \n",
       "1  Acura   RSX Type S 2dr  Sedan   Asia      Front  23820    21761   \n",
       "2  Acura          TSX 4dr  Sedan   Asia      Front  26990    24647   \n",
       "3  Acura           TL 4dr  Sedan   Asia      Front  33195    30299   \n",
       "4  Acura       3.5 RL 4dr  Sedan   Asia      Front  43755    39014   \n",
       "\n",
       "   EngineSize  Cylinders  Horsepower  MPG_City  MPG_Highway  Weight  \\\n",
       "0         3.5        6.0         265        17           23    4451   \n",
       "1         2.0        4.0         200        24           31    2778   \n",
       "2         2.4        4.0         200        22           29    3230   \n",
       "3         3.2        6.0         270        20           28    3575   \n",
       "4         3.5        6.0         225        18           24    3880   \n",
       "\n",
       "   Wheelbase  Length  \n",
       "0        106     189  \n",
       "1        101     172  \n",
       "2        105     183  \n",
       "3        108     186  \n",
       "4        115     197  "
      ]
     },
     "execution_count": 140,
     "metadata": {},
     "output_type": "execute_result"
    }
   ],
   "source": [
    "n=5\n",
    "class_labels = [r'SUV', r'Sedan', r'Sports']\n",
    "training_size = 0.3\n",
    "\n",
    "os.getcwd()\n",
    "#os.listdir()\n",
    "\n",
    "cars = pd.read_csv('https://github.com/danielcbeaulieu/quantum/raw/main/CARS_2004.csv')\n",
    "cars.head()"
   ]
  },
  {
   "cell_type": "markdown",
   "metadata": {
    "id": "TuPC2bseJrpA"
   },
   "source": [
    "With the dataset ready we can setup the [QSVM](https://qiskit.org/documentation/stubs/qiskit.aqua.algorithms.QSVM.html) algorithm to do a classification. Here we use the [ZZFeatureMap](https://qiskit.org/documentation/stubs/qiskit.circuit.library.ZZFeatureMap.html) data encoding circuit from the Qiskit circuit library.\n",
    "\n",
    "Here the BasicAer `qasm_simulator` is used with 1024 shots.\n",
    "\n",
    "For the testing, the result includes the details and the success ratio. For the prediction, the result includes the predicted labels. "
   ]
  },
  {
   "cell_type": "code",
   "execution_count": 138,
   "metadata": {},
   "outputs": [
    {
     "data": {
      "text/html": [
       "<div>\n",
       "<style scoped>\n",
       "    .dataframe tbody tr th:only-of-type {\n",
       "        vertical-align: middle;\n",
       "    }\n",
       "\n",
       "    .dataframe tbody tr th {\n",
       "        vertical-align: top;\n",
       "    }\n",
       "\n",
       "    .dataframe thead th {\n",
       "        text-align: right;\n",
       "    }\n",
       "</style>\n",
       "<table border=\"1\" class=\"dataframe\">\n",
       "  <thead>\n",
       "    <tr style=\"text-align: right;\">\n",
       "      <th>col_0</th>\n",
       "      <th>Asia</th>\n",
       "      <th>Europe</th>\n",
       "      <th>USA</th>\n",
       "    </tr>\n",
       "    <tr>\n",
       "      <th>row_0</th>\n",
       "      <th></th>\n",
       "      <th></th>\n",
       "      <th></th>\n",
       "    </tr>\n",
       "  </thead>\n",
       "  <tbody>\n",
       "    <tr>\n",
       "      <th>Hybrid</th>\n",
       "      <td>3</td>\n",
       "      <td>0</td>\n",
       "      <td>0</td>\n",
       "    </tr>\n",
       "    <tr>\n",
       "      <th>SUV</th>\n",
       "      <td>25</td>\n",
       "      <td>10</td>\n",
       "      <td>25</td>\n",
       "    </tr>\n",
       "    <tr>\n",
       "      <th>Sedan</th>\n",
       "      <td>94</td>\n",
       "      <td>78</td>\n",
       "      <td>90</td>\n",
       "    </tr>\n",
       "    <tr>\n",
       "      <th>Sports</th>\n",
       "      <td>17</td>\n",
       "      <td>23</td>\n",
       "      <td>9</td>\n",
       "    </tr>\n",
       "    <tr>\n",
       "      <th>Truck</th>\n",
       "      <td>8</td>\n",
       "      <td>0</td>\n",
       "      <td>16</td>\n",
       "    </tr>\n",
       "    <tr>\n",
       "      <th>Wagon</th>\n",
       "      <td>11</td>\n",
       "      <td>12</td>\n",
       "      <td>7</td>\n",
       "    </tr>\n",
       "  </tbody>\n",
       "</table>\n",
       "</div>"
      ],
      "text/plain": [
       "col_0   Asia  Europe  USA\n",
       "row_0                    \n",
       "Hybrid     3       0    0\n",
       "SUV       25      10   25\n",
       "Sedan     94      78   90\n",
       "Sports    17      23    9\n",
       "Truck      8       0   16\n",
       "Wagon     11      12    7"
      ]
     },
     "execution_count": 138,
     "metadata": {},
     "output_type": "execute_result"
    }
   ],
   "source": [
    "pd.crosstab(cars.Type.values, cars.Origin.values)\n",
    "#cars_svm_dum.head()"
   ]
  },
  {
   "cell_type": "code",
   "execution_count": 142,
   "metadata": {},
   "outputs": [],
   "source": [
    "cars2 = cars\n",
    "cars3 = cars2[((cars2['Type'] == 'SUV') & (cars2['Origin'] == 'USA')) | ((cars2['Type'] == 'Sports') & (cars2['Origin'] == 'Europe')) | ((cars2['Type'] == 'Sedan') & (cars2['Origin'] == 'Europe') & (cars2['MSRP'] < 40000))]\n",
    "\n",
    "cars_svm_dum = pd.get_dummies(cars3)\n",
    "\n",
    "# create a list of our conditions\n",
    "conditions = [\n",
    "    (cars_svm_dum['Type_SUV'] == 1),\n",
    "    (cars_svm_dum['Type_Sedan'] == 1),\n",
    "    (cars_svm_dum['Type_Sports'] == 1)\n",
    "    ]\n",
    "\n",
    "# create a list of the values we want to assign for each condition\n",
    "values = [0, 1, 2]\n",
    "\n",
    "# create a new column and use np.select to assign values to it using our lists as arguments\n",
    "cars_svm_dum['targ'] = np.select(conditions, values)\n",
    "\n",
    "cars_notarg = cars_svm_dum[['EngineSize', 'Length', 'MSRP', 'MPG_City', 'Wheelbase', 'Horsepower', 'Weight', 'MPG_Highway', 'Origin_Europe', 'Origin_USA', 'DriveTrain_All', 'DriveTrain_Front', 'DriveTrain_Rear']]\n",
    "cars_svm2 = cars_svm_dum[['EngineSize', 'Length', 'MSRP', 'MPG_City', 'Wheelbase', 'Horsepower', 'Weight', 'MPG_Highway', 'Origin_Europe', 'Origin_USA', 'DriveTrain_All', 'DriveTrain_Front', 'DriveTrain_Rear', 'targ']]\n",
    "\n",
    "cars_targ = np.asarray(cars_svm2['targ'], dtype=int)\n",
    "sample_train, sample_test, label_train, label_test = \\\n",
    "    train_test_split(cars_notarg, cars_targ, test_size=0.3, random_state=7)\n",
    "\n",
    "# Now we standarize for gaussian around 0 with unit variance\n",
    "std_scale = StandardScaler().fit(sample_train)\n",
    "sample_train_tran = std_scale.transform(sample_train)\n",
    "sample_test_tran = std_scale.transform(sample_test)\n",
    "\n",
    "# Now reduce number of features to number of qubits\n",
    "pca = PCA(n_components=n).fit(sample_train_tran)\n",
    "sample_train_tran = pca.transform(sample_train_tran)\n",
    "sample_test_tran = pca.transform(sample_test_tran)\n",
    "\n",
    "# Samples are pairs of points\n",
    "samples = np.append(sample_train_tran, sample_test_tran, axis=0)\n",
    "minmax_scale = MinMaxScaler((-1, 1)).fit(samples)\n",
    "sample_train_fin = minmax_scale.transform(sample_train_tran)\n",
    "sample_test_fin = minmax_scale.transform(sample_test_tran)\n",
    "\n",
    "train_num_rows, train_num_cols = sample_train_fin.shape \n",
    "test_num_rows, test_num_cols = sample_test_fin.shape \n",
    "\n",
    "training_input = {key: (sample_train_fin[label_train == k, :])[:train_num_rows]\n",
    "                 for k, key in enumerate(class_labels)}\n",
    "test_input = {key: (sample_test_fin[label_test == k, :])[:test_num_rows]\n",
    "              for k, key in enumerate(class_labels)}"
   ]
  },
  {
   "cell_type": "code",
   "execution_count": 144,
   "metadata": {},
   "outputs": [],
   "source": [
    "temp = [test_input[k] for k in test_input]\n",
    "total_array = np.concatenate(temp)"
   ]
  },
  {
   "cell_type": "code",
   "execution_count": 145,
   "metadata": {
    "id": "jEiFeB6tJrpB",
    "outputId": "137589d5-10e2-4f7c-a246-3cc9d9bf4c2c"
   },
   "outputs": [
    {
     "name": "stdout",
     "output_type": "stream",
     "text": [
      "testing_accuracy : 0.8928571428571429\n",
      "test_success_ratio : 0.8928571428571429\n",
      "predicted_labels : [0 0 0 0 0 0 1 1 1 1 2 1 1 1 1 1 0 1 1 1 1 1 1 2 2 2 2 0]\n",
      "predicted_classes : ['SUV', 'SUV', 'SUV', 'SUV', 'SUV', 'SUV', 'Sedan', 'Sedan', 'Sedan', 'Sedan', 'Sports', 'Sedan', 'Sedan', 'Sedan', 'Sedan', 'Sedan', 'SUV', 'Sedan', 'Sedan', 'Sedan', 'Sedan', 'Sedan', 'Sedan', 'Sports', 'Sports', 'Sports', 'Sports', 'SUV']\n"
     ]
    }
   ],
   "source": [
    "aqua_globals.random_seed = 10598\n",
    "\n",
    "backend = BasicAer.get_backend('qasm_simulator')\n",
    "feature_map = ZZFeatureMap(feature_dimension=get_feature_dimension(training_input),\n",
    "                           reps=2, entanglement='linear')\n",
    "svm = QSVM(feature_map, training_input, test_input, total_array,\n",
    "           multiclass_extension=AllPairs())\n",
    "quantum_instance = QuantumInstance(backend, shots=1024,\n",
    "                                   seed_simulator=aqua_globals.random_seed,\n",
    "                                   seed_transpiler=aqua_globals.random_seed)\n",
    "\n",
    "result = svm.run(quantum_instance)\n",
    "for k,v in result.items():\n",
    "    print(f'{k} : {v}')"
   ]
  },
  {
   "cell_type": "markdown",
   "metadata": {
    "id": "tM8pDzy1JrpF"
   },
   "source": [
    "As you can see, we get 89% accuracy after using PCA to redudce the dimensions to where a quantum computer can accept the size of the classical data we get an estimation that is similar to conventional SVMS. Qiskit also has a classical SVM implementation that takes the same input data for classification. Let's run this and do a comparison. Now the ad hoc data set was created to show that there can be datasets where quantum could give an advantage."
   ]
  },
  {
   "cell_type": "code",
   "execution_count": 126,
   "metadata": {
    "id": "_x-RWlVTJrpF",
    "outputId": "ac481bb0-4cb1-405d-ef27-e3747f05e165"
   },
   "outputs": [
    {
     "name": "stdout",
     "output_type": "stream",
     "text": [
      "Testing success ratio: 0.8928571428571429\n"
     ]
    }
   ],
   "source": [
    "result = SklearnSVM(training_input, test_input, multiclass_extension=AllPairs()).run()\n",
    "\n",
    "print(f'Testing success ratio: {result[\"testing_accuracy\"]}')"
   ]
  },
  {
   "cell_type": "markdown",
   "metadata": {
    "id": "IV8NVFoxJrpH"
   },
   "source": [
    "## Wine Classification Dataset\n",
    "\n",
    "We want a dataset with more than two classes, so here we choose the Wine dataset that has 3 classes."
   ]
  },
  {
   "cell_type": "code",
   "execution_count": 132,
   "metadata": {},
   "outputs": [
    {
     "data": {
      "image/png": "[encoded data removed]",
      "text/plain": [
       "<Figure size 432x288 with 1 Axes>"
      ]
     },
     "metadata": {
      "needs_background": "light"
     },
     "output_type": "display_data"
    }
   ],
   "source": [
    "from qiskit.ml.datasets import wine\n",
    "\n",
    "n = 2  # dimension of each data point\n",
    "sample_Total, training_input, test_input, class_labels = wine(training_size=24,\n",
    "                                                              test_size=6, n=n, plot_data=True)\n",
    "temp = [test_input[k] for k in test_input]\n",
    "total_array = np.concatenate(temp)"
   ]
  },
  {
   "cell_type": "markdown",
   "metadata": {},
   "source": [
    "To used a multiclass extension an instance thereof simply needs to be supplied, on the QSVM creation, using the multiclass_extension parameter. Although AllPairs() is used in the example below, the following multiclass extensions would also work:\n",
    "\n",
    "OneAgainstRest()\n",
    "\n",
    "ErrorCorrectingCode(code_size=5)"
   ]
  },
  {
   "cell_type": "code",
   "execution_count": 133,
   "metadata": {},
   "outputs": [
    {
     "name": "stdout",
     "output_type": "stream",
     "text": [
      "testing_accuracy : 1.0\n",
      "test_success_ratio : 1.0\n",
      "predicted_labels : [0 1 2 2 2 2]\n",
      "predicted_classes : ['A', 'B', 'C', 'C', 'C', 'C']\n"
     ]
    }
   ],
   "source": [
    "aqua_globals.random_seed = 10598\n",
    "\n",
    "backend = BasicAer.get_backend('qasm_simulator')\n",
    "feature_map = ZZFeatureMap(feature_dimension=get_feature_dimension(training_input),\n",
    "                           reps=2, entanglement='linear')\n",
    "svm = QSVM(feature_map, training_input, test_input, total_array,\n",
    "           multiclass_extension=AllPairs())\n",
    "quantum_instance = QuantumInstance(backend, shots=1024,\n",
    "                                   seed_simulator=aqua_globals.random_seed,\n",
    "                                   seed_transpiler=aqua_globals.random_seed)\n",
    "\n",
    "result = svm.run(quantum_instance)\n",
    "for k,v in result.items():\n",
    "    print(f'{k} : {v}')"
   ]
  }
 ],
 "metadata": {
  "colab": {
   "name": "01_qsvm_classification.ipynb",
   "provenance": []
  },
  "kernelspec": {
   "display_name": "Python 3",
   "language": "python",
   "name": "python3"
  },
  "language_info": {
   "codemirror_mode": {
    "name": "ipython",
    "version": 3
   },
   "file_extension": ".py",
   "mimetype": "text/x-python",
   "name": "python",
   "nbconvert_exporter": "python",
   "pygments_lexer": "ipython3",
   "version": "3.8.8"
  },
  "varInspector": {
   "cols": {
    "lenName": 16,
    "lenType": 16,
    "lenVar": 40
   },
   "kernels_config": {
    "python": {
     "delete_cmd_postfix": "",
     "delete_cmd_prefix": "del ",
     "library": "var_list.py",
     "varRefreshCmd": "print(var_dic_list())"
    },
    "r": {
     "delete_cmd_postfix": ") ",
     "delete_cmd_prefix": "rm(",
     "library": "var_list.r",
     "varRefreshCmd": "cat(var_dic_list()) "
    }
   },
   "types_to_exclude": [
    "module",
    "function",
    "builtin_function_or_method",
    "instance",
    "_Feature"
   ],
   "window_display": false
  }
 },
 "nbformat": 4,
 "nbformat_minor": 1
}
