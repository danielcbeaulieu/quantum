{
 "cells": [
  {
   "cell_type": "markdown",
   "id": "artificial-diesel",
   "metadata": {},
   "source": [
    "# Stock Portfolio Optimization\n",
    "\n",
    "This demo is based on the <a href=\"https://qiskit.org/documentation/tutorials/finance/01_portfolio_optimization.html\"> IBM Portfolio Optimization example</a> with the modification that the user can select their own stocks for specific time periods and pull the data from Yahoo Finance.\n",
    "\n",
    "This demo shows how users can select stocks and the algorithms show how to optimize the portfolio for the stocks selected during the time period selected. The output is a the optimal selection of stocks for the desired period.\n",
    "\n",
    "Experiments on real quantum hardware for this problem are reported for instance in the following paper: Improving Variational Quantum Optimization using CVaR. Barkoutsos et al. 2019.\n",
    "\n",
    "The method for pulling real stocks into this demo notebook is based on this IBM notebook entitled <a href=\"https://qiskit.org/documentation/tutorials/finance/11_time_series.html\"> \"Loading and Processing Stock-Market Time-Series Data\"</a>\n",
    "\n",
    "Modified from the original notebook to take custom stock picking data from Yahoo Finance API rather than simulated stock data.\n",
    "\n",
    "## Step 1\n",
    "We chose the stock, risk factor, and begining and end date of our stock analysis"
   ]
  },
  {
   "cell_type": "code",
   "execution_count": 37,
   "id": "standing-proceeding",
   "metadata": {},
   "outputs": [],
   "source": [
    "import datetime\n",
    "#Change symbols for stocks, beginning and end date\n",
    "symbs = [\"TLSA\", \"PYPL\", \"GME\"] #\"TLSA\", \"AMZN\",, \"PYPL\", \"PFE\"\n",
    "q = 0.5 #Set risk factor\n",
    "dat_start = datetime.datetime(2021, 1, 8) #Set start date for portfolio optimization analysis \n",
    "dat_end = datetime.datetime(2021, 3, 8) #Set end date for portfolio optimization analysis\n",
    "backend_spec = 'quantum' #Set whether to use quantum or simulator backend, \n",
    "                            #Set to 'quantum' for QC hardware, Set to 'noise' for noise simulation"
   ]
  },
  {
   "cell_type": "code",
   "execution_count": 38,
   "id": "metric-candidate",
   "metadata": {},
   "outputs": [
    {
     "name": "stderr",
     "output_type": "stream",
     "text": [
      "No traceback available to show.\n",
      "ibmqfactory.load_account:WARNING:2021-03-15 15:04:57,128: Credentials are already in use. The existing account in the session will be replaced.\n"
     ]
    }
   ],
   "source": [
    "%tb\n",
    "%matplotlib inline\n",
    "# Importing standard Qiskit libraries\n",
    "from qiskit import QuantumCircuit, execute, Aer, IBMQ\n",
    "from qiskit.compiler import transpile, assemble\n",
    "from qiskit.tools.jupyter import *\n",
    "from qiskit.visualization import *\n",
    "from ibm_quantum_widgets import *\n",
    "from random import randrange\n",
    "import seaborn as sns\n",
    "\n",
    "# Loading your IBM Q account(s)\n",
    "provider = IBMQ.load_account()"
   ]
  },
  {
   "cell_type": "code",
   "execution_count": 39,
   "id": "educated-ballet",
   "metadata": {},
   "outputs": [],
   "source": [
    "import warnings\n",
    "warnings.filterwarnings(\"ignore\", category=DeprecationWarning) \n",
    "import numpy as np\n",
    "from qiskit.circuit.library import TwoLocal\n",
    "import matplotlib.pyplot as plt\n",
    "from pandas.plotting import register_matplotlib_converters\n",
    "import warnings\n",
    "\n",
    "#import qiskit finance package\n",
    "from qiskit.finance.data_providers import RandomDataProvider\n",
    "from qiskit.finance.data_providers import *\n",
    "from qiskit.finance import QiskitFinanceError\n",
    "from qiskit.aqua.components.optimizers import COBYLA, SPSA\n",
    "from qiskit.providers.aer.noise import NoiseModel\n",
    "from qiskit.test.mock import FakeVigo\n",
    "from qiskit.aqua.algorithms import QAOA, NumPyMinimumEigensolver, VQE\n",
    "from qiskit.finance.applications.ising import portfolio\n",
    "from qiskit.aqua import QuantumInstance\n",
    "from qiskit.providers.aer import QasmSimulator, StatevectorSimulator\n",
    "import yfinance as yf #Yahoo finance\n",
    "\n",
    "#Create graphs & pullin algorithms\n",
    "from qiskit.optimization.applications.ising import graph_partition\n",
    "from qiskit.optimization.applications.ising.common import random_graph, sample_most_likely\n",
    "from qiskit.optimization.problems import QuadraticProgram\n",
    "from qiskit.optimization.algorithms import MinimumEigenOptimizer"
   ]
  },
  {
   "cell_type": "markdown",
   "id": "alpha-asset",
   "metadata": {},
   "source": [
    "### Define functions used in program"
   ]
  },
  {
   "cell_type": "code",
   "execution_count": 40,
   "id": "practical-universe",
   "metadata": {},
   "outputs": [],
   "source": [
    "#We define some utility methods to print the results in a nice format.\n",
    "def index_to_selection(i, num_assets):\n",
    "    s = \"{0:b}\".format(i).rjust(num_assets)\n",
    "    x = np.array([1 if s[i]=='1' else 0 for i in reversed(range(num_assets))])\n",
    "    return x\n",
    "\n",
    "def print_result(result, type):\n",
    "    selection = sample_most_likely(result.eigenstate)\n",
    "    value = portfolio.portfolio_value(selection, mu, sigma, q, budget, penalty)\n",
    "    print('Optimal: selection {}, value {:.4f}'.format(selection, value))\n",
    "        \n",
    "    eigenvector = result.eigenstate if isinstance(result.eigenstate, np.ndarray) else result.eigenstate.to_matrix()\n",
    "    probabilities = np.abs(eigenvector)**2\n",
    "    i_sorted = reversed(np.argsort(probabilities))\n",
    "    print('\\n----------------- Full result ---------------------')\n",
    "    print('selection\\tvalue\\t\\tprobability')\n",
    "    print('---------------------------------------------------')\n",
    "    for i in i_sorted:\n",
    "        x = index_to_selection(i, num_assets)\n",
    "        value = portfolio.portfolio_value(x, mu, sigma, q, budget, penalty)    \n",
    "        probability = probabilities[i]\n",
    "        print('%10s\\t%.4f\\t\\t%.4f' %(x, value, probability))\n",
    "\n",
    "def rec_stocks_class(result_np, result_qaoa, result_vqe):\n",
    "    selection_np = sample_most_likely(result_np.eigenstate)\n",
    "    value_np = portfolio.portfolio_value(selection_np, mu, sigma, q, budget, penalty)\n",
    "    testdict_np = dict(zip(symbs, selection_np))\n",
    "    print('Recommendations for Classical Algorithm')\n",
    "    print('-------------------------------------------------------')\n",
    "    print('Classical Optimal value {:.4f}'.format(value_np))\n",
    "    print('\\n----------------- Classical Stocks Selected ---------------------')\n",
    "    for key, value in testdict_np.items():\n",
    "        if value == 1:\n",
    "            print(key)\n",
    "    print('---------------------------------------------------')\n",
    "    print(' ')\n",
    "    selection_qaoa = sample_most_likely(result_qaoa.eigenstate)\n",
    "    value_qaoa = portfolio.portfolio_value(selection_qaoa, mu, sigma, q, budget, penalty)\n",
    "    testdict_qaoa = dict(zip(symbs, selection_qaoa))\n",
    "    print('Recommendations for QAOA')\n",
    "    print('-------------------------------------------------------')\n",
    "   \n",
    "    if value_qaoa == value_np:\n",
    "        qaoa_eval = \"equivalent\"\n",
    "    elif value_qaoa > value_np:\n",
    "        qaoa_eval = 'worse'\n",
    "    elif value_qaoa < value_np:\n",
    "        qaoa_eval = 'better'\n",
    "    else:\n",
    "        qaoa_eval = 'unknown'   \n",
    "              \n",
    "    print('QAOA performs', qaoa_eval, 'to classical computer algorithm with value = {:.4f}'.format(value_qaoa))\n",
    "    print('\\n----------------- QAOA Stocks Selected ---------------------')\n",
    "    for key, value in testdict_qaoa.items():\n",
    "        if value == 1:\n",
    "            print(key)\n",
    "    print('---------------------------------------------------')\n",
    "   \n",
    "    \n",
    "    selection_vqe = sample_most_likely(result_vqe.eigenstate)\n",
    "    value_vqe = portfolio.portfolio_value(selection_vqe, mu, sigma, q, budget, penalty)\n",
    "    testdict_vqe = dict(zip(symbs, selection_vqe))\n",
    "    if value_vqe == value_np:\n",
    "        vqe_eval = \"equivalent\"\n",
    "    elif value_vqe > value_np:\n",
    "        vqe_eval = 'worse'\n",
    "    elif value_vqe < value_np:\n",
    "        vqe_eval = 'better'\n",
    "    else:\n",
    "        vqe_eval = 'unknown'   \n",
    "    print(' ')          \n",
    "    print('Recommendations for VQE')\n",
    "    print('-------------------------------------------------------')\n",
    "    print('VQE performs', vqe_eval, 'than classical computer algorithm with value = {:.4f}'.format(value_vqe))\n",
    "    #print('Classical Optimal value {:.4f}'.format(value))\n",
    "    print('\\n----------------- VQE Stocks Selected ---------------------')\n",
    "    for key, value in testdict_vqe.items():\n",
    "        if value == 1:\n",
    "            print(key)\n",
    "    print('---------------------------------------------------')\n",
    "\n",
    "   #return selection_np, value_np, selection_qaoa, value_qaoa, selection_vqe, value_vqe \n",
    "\n",
    "def rec_stocks(result, type):\n",
    "    selection = sample_most_likely(result.eigenstate)\n",
    "    value = portfolio.portfolio_value(selection, mu, sigma, q, budget, penalty)\n",
    "    testdict = dict(zip(symbs, selection))\n",
    "    print('Recommendations for:', type)\n",
    "    print('-------------------------------------------------------')\n",
    "    print('Optimal value {:.4f}'.format(value))\n",
    "    print('\\n----------------- Stocks Selected ---------------------')\n",
    "    for key, value in testdict.items():\n",
    "        if value == 1:\n",
    "            print(key)\n",
    "    print('---------------------------------------------------')\n",
    "    return selection, value\n",
    "        \n",
    "def cost_sol(result):    \n",
    "    cost=result.fval\n",
    "    solution_float=result.x\n",
    "    solution = solution_float.astype(int)\n",
    "\n",
    "    #Data Visualization\n",
    "    x_quantum = np.zeros(n**2)\n",
    "    kk = 0\n",
    "    for ii in range(n ** 2):\n",
    "        if ii // n != ii % n:\n",
    "            x_quantum[ii] = solution[kk]\n",
    "            kk +=  1\n",
    "    return x_quantum, solution, cost\n",
    "\n",
    "# Visualize the solution\n",
    "def visualize_solution(xc, yc, x, C, n, K, title_str):\n",
    "    plt.figure()\n",
    "    plt.scatter(xc, yc, s=200)\n",
    "    for i in range(len(xc)):\n",
    "        plt.annotate(i, (xc[i] + 0.15, yc[i]), size=16, color='r')\n",
    "    plt.plot(xc[0], yc[0], 'r*', ms=20)\n",
    "\n",
    "    plt.grid()\n",
    "\n",
    "    for ii in range(0, n ** 2):\n",
    "\n",
    "        if x[ii] > 0:\n",
    "            ix = ii // n\n",
    "            iy = ii % n\n",
    "            plt.arrow(xc[ix], yc[ix], xc[iy] - xc[ix], yc[iy] - yc[ix], length_includes_head=True, head_width=.25)\n",
    "\n",
    "    plt.title(title_str+' cost = ' + str(int(C * 100) / 100.))\n",
    "    plt.show()  \n",
    "\n",
    "def backends(flag):\n",
    "    provider = IBMQ.load_account()\n",
    "    provider2 = IBMQ.get_provider(hub='ibm-q-deloitte') #, group='internal', project='deloitte-us-quan')    \n",
    "    if flag.lower() == 'quantum':\n",
    "        backend = provider2.get_backend('ibmq_rome')\n",
    "        coupling_map = None\n",
    "        noise_model = None\n",
    "\n",
    "    elif flag.lower() == 'noise': \n",
    "        device_backend = FakeVigo()\n",
    "        backend = Aer.get_backend('qasm_simulator')\n",
    "        counts1 = []\n",
    "        values1 = []\n",
    "        noise_model = None\n",
    "        os.environ['QISKIT_IN_PARALLEL'] = 'TRUE'\n",
    "        device = QasmSimulator.from_backend(device_backend)\n",
    "        coupling_map = device.configuration().coupling_map\n",
    "        noise_model = NoiseModel.from_backend(device)\n",
    "        basis_gates = noise_model.basis_gates\n",
    "    \n",
    "    else:\n",
    "        backend = Aer.get_backend('statevector_simulator')\n",
    "        coupling_map = None\n",
    "        noise_model = None\n",
    "    return backend, coupling_map, noise_model\n",
    "\n",
    "def stockgraph():\n",
    "    df_yahoo = yf.download(symbs,\n",
    "            start=dat_start,\n",
    "            end=dat_end,\n",
    "            progress=False,auto_adjust=True)\n",
    "    close = df_yahoo['Close']\n",
    "    print(' ')\n",
    "    print('Stock Price at Closing by Date for Selected Stocks')\n",
    "    fig, axes = plt.subplots(nrows=num_assets, ncols=1, figsize=(16,9))\n",
    "    close.plot(subplots=True, ax=axes)"
   ]
  },
  {
   "cell_type": "code",
   "execution_count": 41,
   "id": "possible-oracle",
   "metadata": {},
   "outputs": [
    {
     "name": "stderr",
     "output_type": "stream",
     "text": [
      "ibmqfactory.load_account:WARNING:2021-03-15 15:05:01,884: Credentials are already in use. The existing account in the session will be replaced.\n"
     ]
    }
   ],
   "source": [
    "#Technical settings\n",
    "backend, coup_map, noise_mod = backends(backend_spec) #choose backend\n",
    "optim = COBYLA() #optmimizer tyope, alternate types are SPSA(), COBYLA()\n",
    "\n",
    "# set number of assets (= number of qubits and number of items in symbs list)\n",
    "num_assets = len(symbs)"
   ]
  },
  {
   "cell_type": "markdown",
   "id": "driving-madagascar",
   "metadata": {},
   "source": [
    "Pull the stock data from the Yahoo Financial API for the selected stocks and period."
   ]
  },
  {
   "cell_type": "code",
   "execution_count": 42,
   "id": "express-smooth",
   "metadata": {},
   "outputs": [],
   "source": [
    "# Generate expected return and covariance matrix from (random) time-series\n",
    "data = YahooDataProvider(tickers = symbs,\n",
    "                 start=dat_start,\n",
    "                 end=dat_end)\n",
    "data.run()\n",
    "mu = data.get_period_return_mean_vector()\n",
    "sigma = data.get_period_return_covariance_matrix()"
   ]
  },
  {
   "cell_type": "markdown",
   "id": "nervous-parts",
   "metadata": {},
   "source": [
    "## Plot showing the values for the variation amongst the data"
   ]
  },
  {
   "cell_type": "code",
   "execution_count": 43,
   "id": "hazardous-thinking",
   "metadata": {},
   "outputs": [
    {
     "data": {
      "image/png": "[encoded data removed]",
      "text/plain": [
       "<Figure size 432x288 with 1 Axes>"
      ]
     },
     "metadata": {
      "needs_background": "light"
     },
     "output_type": "display_data"
    }
   ],
   "source": [
    "# plot sigma\n",
    "plt.imshow(sigma, interpolation='nearest')\n",
    "plt.show()"
   ]
  },
  {
   "cell_type": "code",
   "execution_count": 44,
   "id": "thrown-happiness",
   "metadata": {},
   "outputs": [],
   "source": [
    "budget = num_assets // 2  # set budget\n",
    "penalty = num_assets      # set parameter to scale the budget penalty term\n",
    "\n",
    "qubit_stk, offset = portfolio.get_operator(mu, sigma, q, budget, penalty)"
   ]
  },
  {
   "cell_type": "markdown",
   "id": "latter-freight",
   "metadata": {},
   "source": [
    "## NumPyMinimumEigensolver (as a classical reference)\n",
    "Lets solve the problem. First classically...\n",
    "\n",
    "We can now use the Operator we built above without regard to the specifics of how it was created. We set the algorithm for the NumPyMinimumEigensolver so we can have a classical reference. The problem is set for 'ising'. Backend is not required since this is computed classically not using quantum computation. The result is returned as recommended stocks."
   ]
  },
  {
   "cell_type": "code",
   "execution_count": 45,
   "id": "abroad-posting",
   "metadata": {},
   "outputs": [],
   "source": [
    "##### Validate with NumPy Minimum Eigensolver\n",
    "exact_eigensolver = NumPyMinimumEigensolver(qubit_stk)\n",
    "result_npstk = exact_eigensolver.run()\n",
    "\n",
    "#print_result(result_npstk)\n",
    "#select_np, value_np = rec_stocks(result_npstk, 'Classical')"
   ]
  },
  {
   "cell_type": "markdown",
   "id": "simple-speaking",
   "metadata": {},
   "source": [
    "### Solution using QAOA\n",
    "\n",
    "Quantum Approximate Optimization Algorithm (QAOA) applied to the stock data. This is a variational algorithm and it uses an internal variational form that is created based on the problem. This will create a recommendation of which stocks should be selected for this time period based on the QAOA algorithm."
   ]
  },
  {
   "cell_type": "code",
   "execution_count": 46,
   "id": "competent-pencil",
   "metadata": {},
   "outputs": [],
   "source": [
    "seed = np.random.seed(55)\n",
    "optimizer = optim\n",
    "optimizer.set_options(maxiter=5)\n",
    "qaoa_qstk = QAOA(qubit_stk, optimizer)\n",
    "\n",
    "qaoa_qstk.random_seed = seed\n",
    "\n",
    "quantum_instance = QuantumInstance(backend=backend, seed_simulator=seed, seed_transpiler=seed,\n",
    "                                   coupling_map=coup_map, noise_model=noise_mod)\n",
    "\n",
    "result_qstk = qaoa_qstk.run(quantum_instance)"
   ]
  },
  {
   "cell_type": "markdown",
   "id": "superior-diesel",
   "metadata": {},
   "source": [
    "## Solution using VQE\n",
    "Now we use the Variational Quantum Eigensolver (VQE) to solve the problem. We will specify the optimizer and variational form to be used. Provides recommendations for best stocks for this time period."
   ]
  },
  {
   "cell_type": "code",
   "execution_count": 47,
   "id": "applicable-backing",
   "metadata": {},
   "outputs": [],
   "source": [
    "seed = np.random.seed(50)\n",
    "optimizer = optim\n",
    "optimizer.set_options(maxiter=5)\n",
    "ry = TwoLocal(qubit_stk.num_qubits, 'ry', 'cz', reps=3, entanglement='full')\n",
    "vqe = VQE(qubit_stk, ry, optimizer)\n",
    "vqe.randomrr_seed = seed\n",
    "\n",
    "quantum_instance = QuantumInstance(backend=backend, seed_simulator=seed, seed_transpiler=seed,\n",
    "                                   coupling_map=coup_map, noise_model=noise_mod)\n",
    "\n",
    "result_vqe = vqe.run(quantum_instance)\n",
    "\n",
    "#print_result(result_vqe)\n",
    "#select_vqe, value_vqe = rec_stocks(result_vqe, 'VQE')"
   ]
  },
  {
   "cell_type": "markdown",
   "id": "every-desperate",
   "metadata": {},
   "source": [
    "### Results\n"
   ]
  },
  {
   "cell_type": "code",
   "execution_count": 48,
   "id": "relevant-rings",
   "metadata": {},
   "outputs": [
    {
     "name": "stdout",
     "output_type": "stream",
     "text": [
      "Recommendations for Classical Algorithm\n",
      "-------------------------------------------------------\n",
      "Classical Optimal value -0.0397\n",
      "\n",
      "----------------- Classical Stocks Selected ---------------------\n",
      "GME\n",
      "---------------------------------------------------\n",
      " \n",
      "Recommendations for QAOA\n",
      "-------------------------------------------------------\n",
      "QAOA performs worse to classical computer algorithm with value = -0.0020\n",
      "\n",
      "----------------- QAOA Stocks Selected ---------------------\n",
      "TLSA\n",
      "---------------------------------------------------\n",
      " \n",
      "Recommendations for VQE\n",
      "-------------------------------------------------------\n",
      "VQE performs worse than classical computer algorithm with value = 2.9495\n",
      "\n",
      "----------------- VQE Stocks Selected ---------------------\n",
      "TLSA\n",
      "GME\n",
      "---------------------------------------------------\n",
      " \n",
      "Stock Price at Closing by Date for Selected Stocks\n"
     ]
    },
    {
     "data": {
      "image/png": "[encoded data removed]",
      "text/plain": [
       "<Figure size 1152x648 with 3 Axes>"
      ]
     },
     "metadata": {
      "needs_background": "light"
     },
     "output_type": "display_data"
    }
   ],
   "source": [
    "rec_stocks_class(result_npstk, result_qstk, result_vqe)\n",
    "stockgraph()"
   ]
  },
  {
   "cell_type": "markdown",
   "id": "balanced-banking",
   "metadata": {},
   "source": [
    "## Methodology and Algorithm\n",
    "\n",
    "The  mean-variance portfolio optimization problem for $n$ assets is defined as:\n",
    "\n",
    "$\\begin{aligned}\n",
    "\\min_{x \\in \\{0, 1\\}^n}  q x^T \\Sigma x - \\mu^T x\\\\\n",
    "\\text{subject to: } 1^T x = B\n",
    "\\end{aligned}$\n",
    "\n",
    "where we use the following notation:\n",
    "\n",
    "- $x \\in \\{0, 1\\}^n$ denotes the vector of binary decision variables, which indicate which assets to pick ($x[i] = 1$) and which not to pick ($x[i] = 0$),\n",
    "- $\\mu \\in \\mathbb{R}^n$ defines the expected returns for the assets,\n",
    "- $\\Sigma \\in \\mathbb{R}^{n \\times n}$ specifies the covariances between the assets,\n",
    "- $q > 0$ controls the risk appetite of the decision maker,\n",
    "- and $B$ denotes the budget, i.e. the number of assets to be selected out of $n$.\n",
    "\n",
    "We assume the following simplifications:\n",
    "- all assets have the same price (normalized to 1),\n",
    "- the full budget $B$ has to be spent, i.e. one has to select exactly $B$ assets.\n",
    "\n",
    "The equality constraint $1^T x = B$ is mapped to a penalty term $(1^T x - B)^2$ which is scaled by a parameter and subtracted from the objective function. \n",
    "The resulting problem can be mapped to a Hamiltonian whose ground state corresponds to  the optimal solution.\n",
    "This notebook shows how to use the Variational Quantum Eigensolver (VQE) or the Quantum Approximate Optimization Algorithm (QAOA) to find the optimal solution for a given set of parameters.\n",
    "\n",
    "Experiments on real quantum hardware for this problem are reported for instance in the following paper:\n",
    "<br>\n",
    "<a href=\"https://arxiv.org/abs/1907.04769\">Improving Variational Quantum Optimization using CVaR. Barkoutsos et al. 2019.</a>"
   ]
  },
  {
   "cell_type": "markdown",
   "id": "protecting-insulation",
   "metadata": {},
   "source": [
    "## References \n",
    "Add references later"
   ]
  }
 ],
 "metadata": {
  "kernelspec": {
   "display_name": "Python 3",
   "language": "python",
   "name": "python3"
  },
  "language_info": {
   "codemirror_mode": {
    "name": "ipython",
    "version": 3
   },
   "file_extension": ".py",
   "mimetype": "text/x-python",
   "name": "python",
   "nbconvert_exporter": "python",
   "pygments_lexer": "ipython3",
   "version": "3.8.8"
  }
 },
 "nbformat": 4,
 "nbformat_minor": 5
}
