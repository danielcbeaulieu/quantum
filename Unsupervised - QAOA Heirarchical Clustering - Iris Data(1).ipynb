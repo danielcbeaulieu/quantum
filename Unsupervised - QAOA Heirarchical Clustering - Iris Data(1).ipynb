{
 "cells": [
  {
   "cell_type": "markdown",
   "id": "psychological-google",
   "metadata": {},
   "source": [
    "In the previous example, the max-cut problem was solved using QAOA. Solving the max-cut problem is effectively a binary classifier. In this notebook, we focus on techniques that allow a binary classifier to cluster data into 2+ groups. To summarize this idea with a single question: How can a binary classifier, like QAOA solving the max-cut problem, be used to cluster data into more than 2 clusters?\n",
    "\n",
    "## Divisive Hierarchical Quantum Clustering\n",
    "One solution is to apply a divisive (“top-down”) hierarchial clustering method. This algorithm starts with the whole data set (the top) and slowly breaks it up until all data points are individual clusters (the bottom). For QAOA solving max-cut a divisive hierarchical clustering algorithm would execute as follows: \n",
    "1. Solve the max-cut problem on the entire dataset resulting in two child clusters \n",
    "2. solve the max-cut problem on each child cluster, \n",
    "3. repeat 1. until every data point is in an individual cluster."
   ]
  },
  {
   "cell_type": "code",
   "execution_count": 1,
   "id": "contrary-animal",
   "metadata": {},
   "outputs": [
    {
     "name": "stderr",
     "output_type": "stream",
     "text": [
      "/opt/conda/lib/python3.8/site-packages/qiskit/providers/ibmq/ibmqfactory.py:192: UserWarning: Timestamps in IBMQ backend properties, jobs, and job results are all now in local time instead of UTC.\n",
      "  warnings.warn('Timestamps in IBMQ backend properties, jobs, and job results '\n"
     ]
    }
   ],
   "source": [
    "%matplotlib inline\n",
    "# Importing standard Qiskit libraries\n",
    "from qiskit import QuantumCircuit, execute, Aer, IBMQ\n",
    "from qiskit.compiler import transpile, assemble\n",
    "from qiskit.tools.jupyter import *\n",
    "from qiskit.visualization import *\n",
    "from ibm_quantum_widgets import *\n",
    "\n",
    "# Loading your IBM Q account(s)\n",
    "provider = IBMQ.load_account()"
   ]
  },
  {
   "cell_type": "code",
   "execution_count": 2,
   "id": "combined-hanging",
   "metadata": {},
   "outputs": [],
   "source": [
    "import numpy as np\n",
    "import pandas as pd\n",
    "from numba import jit\n",
    "from sklearn.datasets import load_iris\n",
    "\n",
    "import matplotlib.pyplot as plt\n",
    "import seaborn as sns\n",
    "\n",
    "# Quantum Computing packages\n",
    "from qiskit import BasicAer\n",
    "from qiskit.aqua import QuantumInstance\n",
    "from qiskit.aqua.algorithms import QAOA\n",
    "from qiskit.optimization.applications.ising import max_cut\n",
    "from qiskit.aqua.components.optimizers import COBYLA\n",
    "from qiskit.optimization.applications.ising.common import random_graph, sample_most_likely"
   ]
  },
  {
   "cell_type": "code",
   "execution_count": 3,
   "id": "limited-momentum",
   "metadata": {},
   "outputs": [
    {
     "data": {
      "text/html": [
       "<div>\n",
       "<style scoped>\n",
       "    .dataframe tbody tr th:only-of-type {\n",
       "        vertical-align: middle;\n",
       "    }\n",
       "\n",
       "    .dataframe tbody tr th {\n",
       "        vertical-align: top;\n",
       "    }\n",
       "\n",
       "    .dataframe thead th {\n",
       "        text-align: right;\n",
       "    }\n",
       "</style>\n",
       "<table border=\"1\" class=\"dataframe\">\n",
       "  <thead>\n",
       "    <tr style=\"text-align: right;\">\n",
       "      <th></th>\n",
       "      <th>sepal length (cm)</th>\n",
       "      <th>sepal width (cm)</th>\n",
       "      <th>petal length (cm)</th>\n",
       "      <th>petal width (cm)</th>\n",
       "      <th>species</th>\n",
       "    </tr>\n",
       "  </thead>\n",
       "  <tbody>\n",
       "    <tr>\n",
       "      <th>0</th>\n",
       "      <td>5.1</td>\n",
       "      <td>3.5</td>\n",
       "      <td>1.4</td>\n",
       "      <td>0.2</td>\n",
       "      <td>setosa</td>\n",
       "    </tr>\n",
       "    <tr>\n",
       "      <th>1</th>\n",
       "      <td>4.9</td>\n",
       "      <td>3.0</td>\n",
       "      <td>1.4</td>\n",
       "      <td>0.2</td>\n",
       "      <td>setosa</td>\n",
       "    </tr>\n",
       "    <tr>\n",
       "      <th>2</th>\n",
       "      <td>4.7</td>\n",
       "      <td>3.2</td>\n",
       "      <td>1.3</td>\n",
       "      <td>0.2</td>\n",
       "      <td>setosa</td>\n",
       "    </tr>\n",
       "    <tr>\n",
       "      <th>3</th>\n",
       "      <td>4.6</td>\n",
       "      <td>3.1</td>\n",
       "      <td>1.5</td>\n",
       "      <td>0.2</td>\n",
       "      <td>setosa</td>\n",
       "    </tr>\n",
       "    <tr>\n",
       "      <th>4</th>\n",
       "      <td>5.0</td>\n",
       "      <td>3.6</td>\n",
       "      <td>1.4</td>\n",
       "      <td>0.2</td>\n",
       "      <td>setosa</td>\n",
       "    </tr>\n",
       "  </tbody>\n",
       "</table>\n",
       "</div>"
      ],
      "text/plain": [
       "   sepal length (cm)  sepal width (cm)  petal length (cm)  petal width (cm)  \\\n",
       "0                5.1               3.5                1.4               0.2   \n",
       "1                4.9               3.0                1.4               0.2   \n",
       "2                4.7               3.2                1.3               0.2   \n",
       "3                4.6               3.1                1.5               0.2   \n",
       "4                5.0               3.6                1.4               0.2   \n",
       "\n",
       "  species  \n",
       "0  setosa  \n",
       "1  setosa  \n",
       "2  setosa  \n",
       "3  setosa  \n",
       "4  setosa  "
      ]
     },
     "execution_count": 3,
     "metadata": {},
     "output_type": "execute_result"
    }
   ],
   "source": [
    "# Import Iris dataset\n",
    "iris_data = load_iris()\n",
    "df = pd.DataFrame(iris_data.data, columns=iris_data.feature_names)\n",
    "df['species'] = pd.Categorical.from_codes(iris_data.target, iris_data.target_names)\n",
    "df.head()"
   ]
  },
  {
   "cell_type": "markdown",
   "id": "elementary-shock",
   "metadata": {},
   "source": [
    "The iris dataset contains 150 entries. For reasonable execution time on the simulated quantum computer the number is reduced to ~12 entries."
   ]
  },
  {
   "cell_type": "code",
   "execution_count": 4,
   "id": "educational-standard",
   "metadata": {},
   "outputs": [
    {
     "name": "stdout",
     "output_type": "stream",
     "text": [
      "12 data entries\n"
     ]
    }
   ],
   "source": [
    "# Remove species labels\n",
    "data_full = df.loc[:,['petal length (cm)','petal width (cm)','sepal length (cm)','sepal width (cm)']]\n",
    "\n",
    "# Reduce number of data points\n",
    "df_sub = df[::13]  # Dataframe with species labels\n",
    "data_sub = data_full[::13]  # Dataframe without species lables\n",
    "print(len(data_sub),'data entries')"
   ]
  },
  {
   "cell_type": "markdown",
   "id": "stable-local",
   "metadata": {},
   "source": [
    "### Max-Cut & QAOA Setup\n",
    "The next step is to solve the max-cut problem with QAOA as in the previous notebook, except in this case the intent is to solve the max-cut problem on each resulting child cluster. This requires tracking how the data is cut each iteration. This requires for loops and if statements.\n",
    "\n",
    "Each max-cut creates two new branches, resulting in a binary tree. Since the end case has all n data points in their own clusters, there must be n leaves. For a binary tree, that leaves  the minimum height of the tree h=log2n. Thus, at least h iterations need to be completed."
   ]
  },
  {
   "cell_type": "code",
   "execution_count": null,
   "id": "moderate-daily",
   "metadata": {},
   "outputs": [],
   "source": [
    "# Helper function(s)\n",
    "\n",
    "# Computes pairwise L2-norms (@jit gives x10 speed up)\n",
    "@jit(nopython=True)\n",
    "def calc_w(data_array):\n",
    "    n_instances = data_array.shape[0]\n",
    "    w = np.zeros((n_instances, n_instances))\n",
    "    for i in range(0,n_instances):\n",
    "        for j in range(0,n_instances):\n",
    "            w[i, j] = np.linalg.norm(data_array[i]-data_array[j])\n",
    "    return w"
   ]
  },
  {
   "cell_type": "code",
   "execution_count": 6,
   "id": "religious-australia",
   "metadata": {},
   "outputs": [
    {
     "name": "stderr",
     "output_type": "stream",
     "text": [
      "/opt/conda/lib/python3.8/site-packages/qiskit/aqua/algorithms/minimum_eigen_solvers/minimum_eigen_solver.py:150: DeprecationWarning: eigvecs deprecated, use eigenstate property.\n",
      "  warnings.warn('eigvecs deprecated, use eigenstate property.', DeprecationWarning)\n",
      "/opt/conda/lib/python3.8/site-packages/pandas/core/indexing.py:1597: SettingWithCopyWarning: \n",
      "A value is trying to be set on a copy of a slice from a DataFrame.\n",
      "Try using .loc[row_indexer,col_indexer] = value instead\n",
      "\n",
      "See the caveats in the documentation: https://pandas.pydata.org/pandas-docs/stable/user_guide/indexing.html#returning-a-view-versus-a-copy\n",
      "  self.obj[key] = value\n",
      "/opt/conda/lib/python3.8/site-packages/pandas/core/indexing.py:1676: SettingWithCopyWarning: \n",
      "A value is trying to be set on a copy of a slice from a DataFrame.\n",
      "Try using .loc[row_indexer,col_indexer] = value instead\n",
      "\n",
      "See the caveats in the documentation: https://pandas.pydata.org/pandas-docs/stable/user_guide/indexing.html#returning-a-view-versus-a-copy\n",
      "  self._setitem_single_column(ilocs[0], value, pi)\n"
     ]
    },
    {
     "name": "stdout",
     "output_type": "stream",
     "text": [
      "Iteration 1 of 3 completed\n"
     ]
    },
    {
     "name": "stderr",
     "output_type": "stream",
     "text": [
      "/opt/conda/lib/python3.8/site-packages/qiskit/aqua/algorithms/minimum_eigen_solvers/minimum_eigen_solver.py:150: DeprecationWarning: eigvecs deprecated, use eigenstate property.\n",
      "  warnings.warn('eigvecs deprecated, use eigenstate property.', DeprecationWarning)\n",
      "/opt/conda/lib/python3.8/site-packages/qiskit/aqua/algorithms/minimum_eigen_solvers/minimum_eigen_solver.py:150: DeprecationWarning: eigvecs deprecated, use eigenstate property.\n",
      "  warnings.warn('eigvecs deprecated, use eigenstate property.', DeprecationWarning)\n"
     ]
    },
    {
     "name": "stdout",
     "output_type": "stream",
     "text": [
      "Iteration 2 of 3 completed\n"
     ]
    },
    {
     "name": "stderr",
     "output_type": "stream",
     "text": [
      "/opt/conda/lib/python3.8/site-packages/qiskit/aqua/algorithms/minimum_eigen_solvers/minimum_eigen_solver.py:150: DeprecationWarning: eigvecs deprecated, use eigenstate property.\n",
      "  warnings.warn('eigvecs deprecated, use eigenstate property.', DeprecationWarning)\n",
      "/opt/conda/lib/python3.8/site-packages/qiskit/aqua/algorithms/minimum_eigen_solvers/minimum_eigen_solver.py:150: DeprecationWarning: eigvecs deprecated, use eigenstate property.\n",
      "  warnings.warn('eigvecs deprecated, use eigenstate property.', DeprecationWarning)\n"
     ]
    },
    {
     "name": "stdout",
     "output_type": "stream",
     "text": [
      "Iteration 3 of 3 completed\n"
     ]
    },
    {
     "name": "stderr",
     "output_type": "stream",
     "text": [
      "/opt/conda/lib/python3.8/site-packages/qiskit/aqua/algorithms/minimum_eigen_solvers/minimum_eigen_solver.py:150: DeprecationWarning: eigvecs deprecated, use eigenstate property.\n",
      "  warnings.warn('eigvecs deprecated, use eigenstate property.', DeprecationWarning)\n"
     ]
    }
   ],
   "source": [
    "# This can take several minutes to run\n",
    "\n",
    "# Minimum iterations to turn datapoints into their own clusters (i.e. min. height of binary tree)\n",
    "h = int(np.log2(len(data_sub)))\n",
    "\n",
    "# Max number of qubits your computer can simulate\n",
    "comp_qubits = 15\n",
    "\n",
    "# Copy data for manipulation\n",
    "data = data_sub.copy()\n",
    "\n",
    "# QAOA hyperparameters and backend initialization\n",
    "p = 1  # Number of adiabatic steps must be > 0\n",
    "optimizer = COBYLA()  # Arbitrary selection\n",
    "provider = IBMQ.get_provider(group='open')  # Load provider to access backends\n",
    "backend_ibm = provider.get_backend('ibmq_qasm_simulator')  # Simulate on IBM's cloud service\n",
    "backend_local = BasicAer.get_backend('statevector_simulator')  # Simulate on local machine\n",
    "\n",
    "# Iterate over minimum height of tree\n",
    "for i in range(0,h):\n",
    "    # Initialize 'labels' column for future QAOA output\n",
    "    data.loc[:,'cluster_'+str(i)] = np.nan\n",
    "    data.loc[:,'cut_'+str(i)] = np.nan\n",
    "    \n",
    "    # Select subsets of data based on clustering from previous max-cut solution\n",
    "    dfs = []\n",
    "    if i > 0:\n",
    "        cluster_range = data.loc[:,'cluster_'+str(i-1)].unique()\n",
    "        for j in cluster_range:\n",
    "            df_cluster = data.loc[data['cluster_'+str(i-1)] == j,data.columns[:4]]\n",
    "            # if df_cluster length is 1 then it can't be further cut, so only consider lengths > 1\n",
    "            if len(df_cluster.index) > 1:\n",
    "                dfs.append(df_cluster)\n",
    "    else:\n",
    "        dfs.append(data[data.columns[:4]])\n",
    "\n",
    "    # Solve max-cut with QAOA on each child cluster\n",
    "    for j, df_part in enumerate(dfs):\n",
    "        w = calc_w(df_part.values)  # Calculate pairwise distances between points\n",
    "        \n",
    "        # Initialize QAOA and execute\n",
    "        qubit_ops, offset = max_cut.get_operator(w)\n",
    "        qaoa = QAOA(qubit_ops, optimizer, p)\n",
    "        # If there are 'too many' qubits, use IBM's 32 qubit backend\n",
    "        if w.shape[0] > comp_qubits:\n",
    "            backend = backend_ibm\n",
    "        else:\n",
    "            backend = backend_local\n",
    "        quantum_instance = QuantumInstance(backend, shots=10, skip_qobj_validation=False)\n",
    "        result = qaoa.run(quantum_instance)\n",
    "\n",
    "        # Extract results\n",
    "        x = sample_most_likely(result['eigvecs'][0])\n",
    "\n",
    "        # Store cluster results back into Dataframe. Labels must be unqiue each iteration hence + 2*j\n",
    "        df_part.loc[:,'cluster_'+str(i)] = max_cut.get_graph_solution(x) + 2*j\n",
    "        df_part.loc[:,'cut_'+str(i)] = max_cut.max_cut_value(x, w)\n",
    "        \n",
    "        # Update Dataframe with new clusters and cut weights\n",
    "        data.update(df_part)\n",
    "\n",
    "    print('Iteration',i+1,'of',h,'completed')"
   ]
  },
  {
   "cell_type": "markdown",
   "id": "little-lying",
   "metadata": {},
   "source": [
    "Let’s take a look at how the clustering compares to the known species labeling."
   ]
  },
  {
   "cell_type": "code",
   "execution_count": 7,
   "id": "subjective-taste",
   "metadata": {},
   "outputs": [
    {
     "name": "stderr",
     "output_type": "stream",
     "text": [
      "/opt/conda/lib/python3.8/site-packages/pandas/core/indexing.py:1597: SettingWithCopyWarning: \n",
      "A value is trying to be set on a copy of a slice from a DataFrame.\n",
      "Try using .loc[row_indexer,col_indexer] = value instead\n",
      "\n",
      "See the caveats in the documentation: https://pandas.pydata.org/pandas-docs/stable/user_guide/indexing.html#returning-a-view-versus-a-copy\n",
      "  self.obj[key] = value\n",
      "/opt/conda/lib/python3.8/site-packages/pandas/core/indexing.py:1676: SettingWithCopyWarning: \n",
      "A value is trying to be set on a copy of a slice from a DataFrame.\n",
      "Try using .loc[row_indexer,col_indexer] = value instead\n",
      "\n",
      "See the caveats in the documentation: https://pandas.pydata.org/pandas-docs/stable/user_guide/indexing.html#returning-a-view-versus-a-copy\n",
      "  self._setitem_single_column(ilocs[0], value, pi)\n"
     ]
    },
    {
     "data": {
      "text/html": [
       "<div>\n",
       "<style scoped>\n",
       "    .dataframe tbody tr th:only-of-type {\n",
       "        vertical-align: middle;\n",
       "    }\n",
       "\n",
       "    .dataframe tbody tr th {\n",
       "        vertical-align: top;\n",
       "    }\n",
       "\n",
       "    .dataframe thead th {\n",
       "        text-align: right;\n",
       "    }\n",
       "</style>\n",
       "<table border=\"1\" class=\"dataframe\">\n",
       "  <thead>\n",
       "    <tr style=\"text-align: right;\">\n",
       "      <th></th>\n",
       "      <th>sepal length (cm)</th>\n",
       "      <th>sepal width (cm)</th>\n",
       "      <th>petal length (cm)</th>\n",
       "      <th>petal width (cm)</th>\n",
       "      <th>species</th>\n",
       "      <th>cluster_0</th>\n",
       "      <th>cut_0</th>\n",
       "      <th>cluster_1</th>\n",
       "      <th>cut_1</th>\n",
       "      <th>cluster_2</th>\n",
       "      <th>cut_2</th>\n",
       "    </tr>\n",
       "  </thead>\n",
       "  <tbody>\n",
       "    <tr>\n",
       "      <th>0</th>\n",
       "      <td>5.1</td>\n",
       "      <td>3.5</td>\n",
       "      <td>1.4</td>\n",
       "      <td>0.2</td>\n",
       "      <td>setosa</td>\n",
       "      <td>0.0</td>\n",
       "      <td>150.460827</td>\n",
       "      <td>1.0</td>\n",
       "      <td>2.974861</td>\n",
       "      <td>0.0</td>\n",
       "      <td>0.561177</td>\n",
       "    </tr>\n",
       "    <tr>\n",
       "      <th>13</th>\n",
       "      <td>4.3</td>\n",
       "      <td>3.0</td>\n",
       "      <td>1.1</td>\n",
       "      <td>0.1</td>\n",
       "      <td>setosa</td>\n",
       "      <td>0.0</td>\n",
       "      <td>150.460827</td>\n",
       "      <td>0.0</td>\n",
       "      <td>2.974861</td>\n",
       "      <td>NaN</td>\n",
       "      <td>NaN</td>\n",
       "    </tr>\n",
       "    <tr>\n",
       "      <th>26</th>\n",
       "      <td>5.0</td>\n",
       "      <td>3.4</td>\n",
       "      <td>1.6</td>\n",
       "      <td>0.4</td>\n",
       "      <td>setosa</td>\n",
       "      <td>0.0</td>\n",
       "      <td>150.460827</td>\n",
       "      <td>1.0</td>\n",
       "      <td>2.974861</td>\n",
       "      <td>1.0</td>\n",
       "      <td>0.561177</td>\n",
       "    </tr>\n",
       "    <tr>\n",
       "      <th>39</th>\n",
       "      <td>5.1</td>\n",
       "      <td>3.4</td>\n",
       "      <td>1.5</td>\n",
       "      <td>0.2</td>\n",
       "      <td>setosa</td>\n",
       "      <td>0.0</td>\n",
       "      <td>150.460827</td>\n",
       "      <td>1.0</td>\n",
       "      <td>2.974861</td>\n",
       "      <td>0.0</td>\n",
       "      <td>0.561177</td>\n",
       "    </tr>\n",
       "    <tr>\n",
       "      <th>52</th>\n",
       "      <td>6.9</td>\n",
       "      <td>3.1</td>\n",
       "      <td>4.9</td>\n",
       "      <td>1.5</td>\n",
       "      <td>versicolor</td>\n",
       "      <td>1.0</td>\n",
       "      <td>150.460827</td>\n",
       "      <td>2.0</td>\n",
       "      <td>30.857643</td>\n",
       "      <td>2.0</td>\n",
       "      <td>3.252945</td>\n",
       "    </tr>\n",
       "    <tr>\n",
       "      <th>65</th>\n",
       "      <td>6.7</td>\n",
       "      <td>3.1</td>\n",
       "      <td>4.4</td>\n",
       "      <td>1.4</td>\n",
       "      <td>versicolor</td>\n",
       "      <td>1.0</td>\n",
       "      <td>150.460827</td>\n",
       "      <td>2.0</td>\n",
       "      <td>30.857643</td>\n",
       "      <td>2.0</td>\n",
       "      <td>3.252945</td>\n",
       "    </tr>\n",
       "    <tr>\n",
       "      <th>78</th>\n",
       "      <td>6.0</td>\n",
       "      <td>2.9</td>\n",
       "      <td>4.5</td>\n",
       "      <td>1.5</td>\n",
       "      <td>versicolor</td>\n",
       "      <td>1.0</td>\n",
       "      <td>150.460827</td>\n",
       "      <td>2.0</td>\n",
       "      <td>30.857643</td>\n",
       "      <td>3.0</td>\n",
       "      <td>3.252945</td>\n",
       "    </tr>\n",
       "    <tr>\n",
       "      <th>91</th>\n",
       "      <td>6.1</td>\n",
       "      <td>3.0</td>\n",
       "      <td>4.6</td>\n",
       "      <td>1.4</td>\n",
       "      <td>versicolor</td>\n",
       "      <td>1.0</td>\n",
       "      <td>150.460827</td>\n",
       "      <td>2.0</td>\n",
       "      <td>30.857643</td>\n",
       "      <td>3.0</td>\n",
       "      <td>3.252945</td>\n",
       "    </tr>\n",
       "    <tr>\n",
       "      <th>104</th>\n",
       "      <td>6.5</td>\n",
       "      <td>3.0</td>\n",
       "      <td>5.8</td>\n",
       "      <td>2.2</td>\n",
       "      <td>virginica</td>\n",
       "      <td>1.0</td>\n",
       "      <td>150.460827</td>\n",
       "      <td>3.0</td>\n",
       "      <td>30.857643</td>\n",
       "      <td>5.0</td>\n",
       "      <td>4.912491</td>\n",
       "    </tr>\n",
       "    <tr>\n",
       "      <th>117</th>\n",
       "      <td>7.7</td>\n",
       "      <td>3.8</td>\n",
       "      <td>6.7</td>\n",
       "      <td>2.2</td>\n",
       "      <td>virginica</td>\n",
       "      <td>1.0</td>\n",
       "      <td>150.460827</td>\n",
       "      <td>3.0</td>\n",
       "      <td>30.857643</td>\n",
       "      <td>4.0</td>\n",
       "      <td>4.912491</td>\n",
       "    </tr>\n",
       "    <tr>\n",
       "      <th>130</th>\n",
       "      <td>7.4</td>\n",
       "      <td>2.8</td>\n",
       "      <td>6.1</td>\n",
       "      <td>1.9</td>\n",
       "      <td>virginica</td>\n",
       "      <td>1.0</td>\n",
       "      <td>150.460827</td>\n",
       "      <td>3.0</td>\n",
       "      <td>30.857643</td>\n",
       "      <td>4.0</td>\n",
       "      <td>4.912491</td>\n",
       "    </tr>\n",
       "    <tr>\n",
       "      <th>143</th>\n",
       "      <td>6.8</td>\n",
       "      <td>3.2</td>\n",
       "      <td>5.9</td>\n",
       "      <td>2.3</td>\n",
       "      <td>virginica</td>\n",
       "      <td>1.0</td>\n",
       "      <td>150.460827</td>\n",
       "      <td>3.0</td>\n",
       "      <td>30.857643</td>\n",
       "      <td>5.0</td>\n",
       "      <td>4.912491</td>\n",
       "    </tr>\n",
       "  </tbody>\n",
       "</table>\n",
       "</div>"
      ],
      "text/plain": [
       "     sepal length (cm)  sepal width (cm)  petal length (cm)  petal width (cm)  \\\n",
       "0                  5.1               3.5                1.4               0.2   \n",
       "13                 4.3               3.0                1.1               0.1   \n",
       "26                 5.0               3.4                1.6               0.4   \n",
       "39                 5.1               3.4                1.5               0.2   \n",
       "52                 6.9               3.1                4.9               1.5   \n",
       "65                 6.7               3.1                4.4               1.4   \n",
       "78                 6.0               2.9                4.5               1.5   \n",
       "91                 6.1               3.0                4.6               1.4   \n",
       "104                6.5               3.0                5.8               2.2   \n",
       "117                7.7               3.8                6.7               2.2   \n",
       "130                7.4               2.8                6.1               1.9   \n",
       "143                6.8               3.2                5.9               2.3   \n",
       "\n",
       "        species  cluster_0       cut_0  cluster_1      cut_1  cluster_2  \\\n",
       "0        setosa        0.0  150.460827        1.0   2.974861        0.0   \n",
       "13       setosa        0.0  150.460827        0.0   2.974861        NaN   \n",
       "26       setosa        0.0  150.460827        1.0   2.974861        1.0   \n",
       "39       setosa        0.0  150.460827        1.0   2.974861        0.0   \n",
       "52   versicolor        1.0  150.460827        2.0  30.857643        2.0   \n",
       "65   versicolor        1.0  150.460827        2.0  30.857643        2.0   \n",
       "78   versicolor        1.0  150.460827        2.0  30.857643        3.0   \n",
       "91   versicolor        1.0  150.460827        2.0  30.857643        3.0   \n",
       "104   virginica        1.0  150.460827        3.0  30.857643        5.0   \n",
       "117   virginica        1.0  150.460827        3.0  30.857643        4.0   \n",
       "130   virginica        1.0  150.460827        3.0  30.857643        4.0   \n",
       "143   virginica        1.0  150.460827        3.0  30.857643        5.0   \n",
       "\n",
       "        cut_2  \n",
       "0    0.561177  \n",
       "13        NaN  \n",
       "26   0.561177  \n",
       "39   0.561177  \n",
       "52   3.252945  \n",
       "65   3.252945  \n",
       "78   3.252945  \n",
       "91   3.252945  \n",
       "104  4.912491  \n",
       "117  4.912491  \n",
       "130  4.912491  \n",
       "143  4.912491  "
      ]
     },
     "execution_count": 7,
     "metadata": {},
     "output_type": "execute_result"
    }
   ],
   "source": [
    "# Include results from QAOA in df_sub dataframe for comparison to species label\n",
    "for i in range(0,h):\n",
    "    df_sub.loc[:,'cluster_'+str(i)] = data.loc[:,'cluster_'+str(i)]\n",
    "    df_sub.loc[:,'cut_'+str(i)] = data.loc[:,'cut_'+str(i)]\n",
    "df_sub"
   ]
  },
  {
   "cell_type": "markdown",
   "id": "standing-transition",
   "metadata": {},
   "source": [
    "Solving the max-cut problem gives clustering labels as a binary tree. To see this, look at the columns ‘cluster_(i)’. As you follow from one column to the next you see, for example, cluster 0 in ‘cluster_0’ is split into two clusters in column ‘cluster_1’ and so on.\n",
    "\n",
    "## Stop Criteria\n",
    "To find the optimal clustering, a depth-first-search is performed down the tree. The search is stopped once the leaves are below some predefined cut weight. Below, the cut weights vs the associated number of clusters is plotted. The best option is to follow the elbow rule and stop at 3 clusters. Choose the cluster with the higher cut weight. The higher cut weight implies a more separated graph resulted from the cut, and the more the separation, the more likely the clusters are in fact different."
   ]
  },
  {
   "cell_type": "code",
   "execution_count": 8,
   "id": "whole-stroke",
   "metadata": {},
   "outputs": [
    {
     "data": {
      "image/png": "[encoded data removed]",
      "text/plain": [
       "<Figure size 432x288 with 1 Axes>"
      ]
     },
     "metadata": {
      "needs_background": "light"
     },
     "output_type": "display_data"
    }
   ],
   "source": [
    "# Plot max-cut weights vs number of clusters created\n",
    "cuts = []\n",
    "cluster_num = []\n",
    "\n",
    "# Get max-cut weights and associated number of clusters from results in df_sub\n",
    "for i in range(0,h):\n",
    "    # Collect max-cut weights\n",
    "    cuts += list(df_sub['cut_'+str(i)].unique())\n",
    "    # Number how many clusters have been made for this cut\n",
    "    cut_off = 2**i\n",
    "    for j in range(0,cut_off):\n",
    "        cluster_num.append(i+2)\n",
    "\n",
    "plt.scatter(cluster_num,cuts)\n",
    "plt.xlabel('Number of clusters')\n",
    "plt.ylabel('Max cut weight')\n",
    "plt.show()"
   ]
  },
  {
   "cell_type": "markdown",
   "id": "traditional-treatment",
   "metadata": {},
   "source": [
    "Traversing the binary tree along the ‘heaviest’ branches in order stop at the number of leaves associated with the elbow rule. Based on the plot above that would be 3 clusters where the 2nd and 3rd clusters are associated with the point (3,~30)"
   ]
  },
  {
   "cell_type": "code",
   "execution_count": 9,
   "id": "pointed-courage",
   "metadata": {},
   "outputs": [
    {
     "name": "stderr",
     "output_type": "stream",
     "text": [
      "/opt/conda/lib/python3.8/site-packages/pandas/core/indexing.py:1597: SettingWithCopyWarning: \n",
      "A value is trying to be set on a copy of a slice from a DataFrame.\n",
      "Try using .loc[row_indexer,col_indexer] = value instead\n",
      "\n",
      "See the caveats in the documentation: https://pandas.pydata.org/pandas-docs/stable/user_guide/indexing.html#returning-a-view-versus-a-copy\n",
      "  self.obj[key] = value\n",
      "/opt/conda/lib/python3.8/site-packages/pandas/core/indexing.py:1720: SettingWithCopyWarning: \n",
      "A value is trying to be set on a copy of a slice from a DataFrame.\n",
      "Try using .loc[row_indexer,col_indexer] = value instead\n",
      "\n",
      "See the caveats in the documentation: https://pandas.pydata.org/pandas-docs/stable/user_guide/indexing.html#returning-a-view-versus-a-copy\n",
      "  self._setitem_single_column(loc, value, pi)\n",
      "/opt/conda/lib/python3.8/site-packages/IPython/core/interactiveshell.py:3427: SettingWithCopyWarning: \n",
      "A value is trying to be set on a copy of a slice from a DataFrame\n",
      "\n",
      "See the caveats in the documentation: https://pandas.pydata.org/pandas-docs/stable/user_guide/indexing.html#returning-a-view-versus-a-copy\n",
      "  exec(code_obj, self.user_global_ns, self.user_ns)\n",
      "/opt/conda/lib/python3.8/site-packages/IPython/core/interactiveshell.py:3427: SettingWithCopyWarning: \n",
      "A value is trying to be set on a copy of a slice from a DataFrame\n",
      "\n",
      "See the caveats in the documentation: https://pandas.pydata.org/pandas-docs/stable/user_guide/indexing.html#returning-a-view-versus-a-copy\n",
      "  exec(code_obj, self.user_global_ns, self.user_ns)\n"
     ]
    },
    {
     "data": {
      "image/png": "[encoded data removed]",
      "text/plain": [
       "<Figure size 771.875x720 with 20 Axes>"
      ]
     },
     "metadata": {
      "needs_background": "light"
     },
     "output_type": "display_data"
    },
    {
     "name": "stdout",
     "output_type": "stream",
     "text": [
      "\"Average\" label classification:\n",
      "species\n",
      "setosa        0.0\n",
      "versicolor    2.0\n",
      "virginica     3.0\n",
      "Name: final, dtype: float64\n"
     ]
    }
   ],
   "source": [
    "# cut_off sets where the 'elbow' is in for the elbow rule\n",
    "cut_off = 0.10  # 10% of global maximum is acceptable\n",
    "\n",
    "# First cut should be the largest compared to subsequent cuts\n",
    "global_maxim = df_sub['cut_0'].max()\n",
    "\n",
    "# Initialize final clustering column\n",
    "df_sub.loc[:,'final'] = np.nan\n",
    "\n",
    "for (clus_col, cut_col) in zip(df_sub[df_sub.columns[5::2]],df_sub[df_sub.columns[6::2]]):\n",
    "    # Find the maximum cut for this particular column of data\n",
    "    maxim = df_sub[cut_col].max()\n",
    "    if maxim > global_maxim*cut_off:\n",
    "        df_sub['final'].update(df_sub[clus_col][df_sub[cut_col] == maxim])\n",
    "\n",
    "# Constrain data to final clustering assignments\n",
    "df_sub_plot = df_sub[['sepal length (cm)','sepal width (cm)','petal length (cm)','petal width (cm)','final']]\n",
    "\n",
    "# Visualize clustering\n",
    "sns.pairplot(data=df_sub_plot,hue='final',palette=\"husl\",vars=df_sub.columns[:4])\n",
    "plt.show()\n",
    "\n",
    "# Display mean of cluster labels by species\n",
    "print('\\\"Average\\\" label classification:')\n",
    "print(df_sub.groupby(['species']).sum()['final'] / df_sub.groupby(['species']).count()['final'])"
   ]
  },
  {
   "cell_type": "markdown",
   "id": "superb-label",
   "metadata": {},
   "source": [
    "The ‘Average’ label classification is the average cluster label (1, 2, or 3) for each species. Setosa is all in cluster 1; versicolor is all in cluster 2; and virginica is all in cluster 3. The divisive hierarchical quantum clustering performed  a clustering on more than two clusters. Three types of flowers were classified correctly."
   ]
  }
 ],
 "metadata": {
  "kernelspec": {
   "display_name": "Python 3",
   "language": "python",
   "name": "python3"
  },
  "language_info": {
   "codemirror_mode": {
    "name": "ipython",
    "version": 3
   },
   "file_extension": ".py",
   "mimetype": "text/x-python",
   "name": "python",
   "nbconvert_exporter": "python",
   "pygments_lexer": "ipython3",
   "version": "3.8.8"
  }
 },
 "nbformat": 4,
 "nbformat_minor": 5
}
