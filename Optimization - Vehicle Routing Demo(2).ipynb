{
 "cells": [
  {
   "cell_type": "markdown",
   "metadata": {},
   "source": [
    "# Vehicle Routing"
   ]
  },
  {
   "cell_type": "markdown",
   "metadata": {},
   "source": [
    "Logistics is a major industry valued at over $8 billion USD globally. Most service providers operate a number of vehicles (e.g., trucks and container ships), a number of depots, where the vehicles are based overnight, and serve a number of client locations with each vehicle during each day. The key challenge is how to optimize routes from depots to a number of client locations and back to the depot, so as to minimize vehicle-miles traveled, time spent, or similar objective functions. Ths demo shows an idealized version of the problem and showcase its solution using the Quantum Approximate Optimization Approach (QAOA) of Farhi, Goldstone, and Gutman (2014)."
   ]
  },
  {
   "cell_type": "code",
   "execution_count": 31,
   "metadata": {},
   "outputs": [],
   "source": [
    "# Initialize the problem by defining the parameters\n",
    "n = 4  # number of nodes + depot (n+1) MAX: 3 for quantum system, 2 for Noise Model\n",
    "K = 2  # number of vehicles MAX: 2 for quantum system, 2 for Noise Model\n",
    "backend_type = 'quantum' #Set whether to use quantum or simulator backend, \n",
    "                             #Set to 'quantum' for QC hardware, Set to 'noise' for noise simulation"
   ]
  },
  {
   "cell_type": "markdown",
   "metadata": {},
   "source": [
    "## Import necessary libraries to run program"
   ]
  },
  {
   "cell_type": "code",
   "execution_count": 32,
   "metadata": {},
   "outputs": [],
   "source": [
    "# Load the packages that are required\n",
    "import numpy as np\n",
    "import operator\n",
    "import matplotlib.pyplot as plt\n",
    "\n",
    "import sys\n",
    "if sys.version_info < (3, 6):\n",
    "    raise Exception('Please use Python version 3.6 or greater.')\n",
    "\n",
    "import math\n",
    "\n",
    "# Qiskit packages\n",
    "from qiskit import BasicAer\n",
    "from qiskit.quantum_info import Pauli\n",
    "from qiskit.aqua import QuantumInstance, aqua_globals\n",
    "from qiskit.aqua.algorithms import QAOA, NumPyMinimumEigensolver, VQE\n",
    "from qiskit.aqua.components.optimizers import COBYLA, SPSA\n",
    "from qiskit.optimization.algorithms import CobylaOptimizer, MinimumEigenOptimizer, RecursiveMinimumEigenOptimizer\n",
    "from qiskit.circuit.library import TwoLocal\n",
    "from qiskit.aqua.operators import WeightedPauliOperator\n",
    "from qiskit.optimization.applications.ising.vehicle_routing import get_operator, get_vehiclerouting_cost, \\\n",
    "    get_vehiclerouting_matrices, get_vehiclerouting_solution  \n",
    "from qiskit.optimization.applications.ising.common import sample_most_likely\n",
    "from qiskit.optimization.problems import QuadraticProgram\n",
    "from qiskit.providers.aer.noise import NoiseModel\n",
    "from qiskit.test.mock import FakeVigo\n",
    "from qiskit.providers.aer import QasmSimulator, StatevectorSimulator\n",
    "# setup aqua logging\n",
    "import logging\n",
    "from qiskit.aqua._logging import set_logging_config, build_logging_config\n",
    "#set_logging_config(build_logging_config(logging.DEBUG))  # choose INFO, DEBUG to see the log\n",
    "\n",
    "#import to generate random numbers\n",
    "from random import randrange"
   ]
  },
  {
   "cell_type": "code",
   "execution_count": 33,
   "metadata": {},
   "outputs": [
    {
     "name": "stderr",
     "output_type": "stream",
     "text": [
      "ibmqfactory.load_account:WARNING:2021-03-11 20:06:26,942: Credentials are already in use. The existing account in the session will be replaced.\n"
     ]
    }
   ],
   "source": [
    "%matplotlib inline\n",
    "# Importing standard Qiskit libraries\n",
    "from qiskit import QuantumCircuit, execute, Aer, IBMQ, assemble, transpile\n",
    "from qiskit.compiler import transpile, assemble\n",
    "from qiskit.tools.jupyter import *\n",
    "from qiskit.visualization import *\n",
    "from ibm_quantum_widgets import *\n",
    "\n",
    "# Loading your IBM Q account(s)\n",
    "provider = IBMQ.load_account()"
   ]
  },
  {
   "cell_type": "markdown",
   "metadata": {},
   "source": [
    "## Define functions used in program"
   ]
  },
  {
   "cell_type": "code",
   "execution_count": 34,
   "metadata": {},
   "outputs": [],
   "source": [
    "# Get the data\n",
    "class Initializer():\n",
    "\n",
    "    def __init__(self, n):\n",
    "        self.n = n\n",
    "\n",
    "    def generate_instance(self):\n",
    "\n",
    "        n = self.n\n",
    "\n",
    "        # np.random.seed(33)\n",
    "        np.random.seed(1543)\n",
    "\n",
    "        xc = (np.random.rand(n) - 0.5) * 10\n",
    "        yc = (np.random.rand(n) - 0.5) * 10\n",
    "\n",
    "        instance = np.zeros([n, n])\n",
    "        for ii in range(0, n):\n",
    "            for jj in range(ii + 1, n):\n",
    "                instance[ii, jj] = (xc[ii] - xc[jj]) ** 2 + (yc[ii] - yc[jj]) ** 2\n",
    "                instance[jj, ii] = instance[ii, jj]\n",
    "\n",
    "        return xc, yc, instance\n",
    "\n",
    "def print_result(result):\n",
    "    selection = sample_most_likely(result.eigenstate)\n",
    "    value = portfolio.portfolio_value(selection, mu, sigma, q, budget, penalty)\n",
    "    print('Optimal: selection {}, value {:.4f}'.format(selection, value))\n",
    "        \n",
    "    eigenvector = result.eigenstate if isinstance(result.eigenstate, np.ndarray) else result.eigenstate.to_matrix()\n",
    "    probabilities = np.abs(eigenvector)**2\n",
    "    i_sorted = reversed(np.argsort(probabilities))\n",
    "    print('\\n----------------- Full result ---------------------')\n",
    "    print('selection\\tvalue\\t\\tprobability')\n",
    "    print('---------------------------------------------------')\n",
    "    for i in i_sorted:\n",
    "        x = index_to_selection(i, num_assets)\n",
    "        value = portfolio.portfolio_value(x, mu, sigma, q, budget, penalty)    \n",
    "        probability = probabilities[i]\n",
    "        print('%10s\\t%.4f\\t\\t%.4f' %(x, value, probability))\n",
    "        \n",
    "def cost_sol(result):    \n",
    "    cost=result.fval\n",
    "    solution_float=result.x\n",
    "    solution = solution_float.astype(int)\n",
    "\n",
    "    #Data Visualization\n",
    "    x_quantum = np.zeros(n**2)\n",
    "    kk = 0\n",
    "    for ii in range(n ** 2):\n",
    "        if ii // n != ii % n:\n",
    "            x_quantum[ii] = solution[kk]\n",
    "            kk +=  1\n",
    "    return x_quantum, solution, cost\n",
    "\n",
    "def cost_sol_step2(result_vqe, result_qaoa):    \n",
    "    cost_vqe=result_vqe.fval\n",
    "    solution_float=result_vqe.x\n",
    "    solution_vqe = solution_float.astype(int)\n",
    "    \n",
    "    if cost_vqe == cost_clas:\n",
    "        vqe_eval = \"equivalent\"\n",
    "    elif cost_vqe > cost_clas:\n",
    "        vqe_eval = 'worse'\n",
    "    elif cost_vqe < cost_clas:\n",
    "        vqe_eval = 'better'\n",
    "    else:\n",
    "        qaoa_eval = 'unknown'\n",
    "        \n",
    "    x_quantum_vqe = np.zeros(n**2)\n",
    "    kk = 0\n",
    "    for ii in range(n ** 2):\n",
    "        if ii // n != ii % n:\n",
    "            x_quantum_vqe[ii] = solution_vqe[kk]\n",
    "            kk +=  1\n",
    "    \n",
    "    cost_qaoa=result_vqe.fval\n",
    "    solution_float=result_qaoa.x\n",
    "    solution_qaoa = solution_float.astype(int)\n",
    "\n",
    "    if cost_qaoa == cost_clas:\n",
    "        qaoa_eval = \"equivalent\"\n",
    "    elif cost_qaoa > cost_clas:\n",
    "        qaoa_eval = 'worse'\n",
    "    elif cost_qaoa < cost_clas:\n",
    "        qaoa_eval = 'better'\n",
    "    else:\n",
    "        qaoa_eval = 'unknown'   \n",
    "\n",
    "    #Data Visualization\n",
    "    x_quantum_qaoa = np.zeros(n**2)\n",
    "    kk = 0\n",
    "    for ii in range(n ** 2):\n",
    "        if ii // n != ii % n:\n",
    "            x_quantum_qaoa[ii] = solution_qaoa[kk]\n",
    "            kk +=  1\n",
    "            \n",
    "    print('-------------------------------------------------------')\n",
    "    print('Classical Optimal value {:.4f}'.format(cost_clas))\n",
    "    print('-------------------------------------------------------')\n",
    "    print('QAOA performs', qaoa_eval, 'to classical computer algorithm with value = {:.4f}'.format(cost_qaoa))\n",
    "    print(' ')          \n",
    "    print('VQE performs', vqe_eval, 'than classical computer algorithm with value = {:.4f}'.format(cost_vqe))\n",
    "    print('---------------------------------------------------')\n",
    "    \n",
    "    return x_quantum_qaoa, solution_qaoa, cost_qaoa, x_quantum_vqe, solution_vqe, cost_vqe \n",
    "\n",
    "# Visualize the solution\n",
    "def visualize_solution(xc, yc, x, C, n, K, title_str):\n",
    "    plt.figure()\n",
    "    plt.scatter(xc, yc, s=200)\n",
    "    for i in range(len(xc)):\n",
    "        plt.annotate(i, (xc[i] + 0.15, yc[i]), size=16, color='r')\n",
    "    plt.plot(xc[0], yc[0], 'r*', ms=20)\n",
    "\n",
    "    plt.grid(b=None)\n",
    "    plt.axis('off')\n",
    "\n",
    "    for ii in range(0, n ** 2):\n",
    "\n",
    "        if x[ii] > 0:\n",
    "            ix = ii // n\n",
    "            iy = ii % n\n",
    "            plt.arrow(xc[ix], yc[ix], xc[iy] - xc[ix], yc[iy] - yc[ix], length_includes_head=True, head_width=.25)\n",
    "\n",
    "    plt.title(title_str+'optimal solution with cost value = ' + str(int(C * 100) / 100.))\n",
    "    plt.show()    \n",
    "\n",
    "def backends(flag):\n",
    "    provider = IBMQ.load_account()\n",
    "    provider2 = IBMQ.get_provider(hub='ibm-q-deloitte') #, group='internal', project='deloitte-us-quan')    \n",
    "    if flag.lower() == 'quantum':\n",
    "        backend = provider2.get_backend('ibmq_casablanca')\n",
    "        coupling_map = None\n",
    "        noise_model = None\n",
    "\n",
    "    elif flag.lower() == 'noise': \n",
    "        device_backend = FakeVigo()\n",
    "        backend = Aer.get_backend('qasm_simulator')\n",
    "        counts1 = []\n",
    "        values1 = []\n",
    "        noise_model = None\n",
    "        os.environ['QISKIT_IN_PARALLEL'] = 'TRUE'\n",
    "        device = QasmSimulator.from_backend(device_backend)\n",
    "        coupling_map = device.configuration().coupling_map\n",
    "        noise_model = NoiseModel.from_backend(device)\n",
    "        basis_gates = noise_model.basis_gates\n",
    "    \n",
    "    else:\n",
    "        backend = Aer.get_backend('statevector_simulator')\n",
    "        coupling_map = None\n",
    "        noise_model = None\n",
    "    return backend, coupling_map, noise_model"
   ]
  },
  {
   "cell_type": "code",
   "execution_count": 35,
   "metadata": {},
   "outputs": [
    {
     "name": "stderr",
     "output_type": "stream",
     "text": [
      "ibmqfactory.load_account:WARNING:2021-03-11 20:06:30,804: Credentials are already in use. The existing account in the session will be replaced.\n"
     ]
    }
   ],
   "source": [
    "# Initialize the problem by randomly generating the instance\n",
    "initializer = Initializer(n)\n",
    "xc,yc,instance = initializer.generate_instance()\n",
    "backend, coup_map, noise_mod = backends(backend_type) #Set whether to use quantum or simulator backend, \n",
    "                                #Set to 'quantum' for QC hardware, Set to 'noise' for noise simulation"
   ]
  },
  {
   "cell_type": "markdown",
   "metadata": {},
   "source": [
    "## Create Ising Hamiltonian and routing matrix  \n",
    "To use a Variational Combinatorial Problem, the problem needs to be encoded into an Ising Hamiltonian usable by the quantum algorithm. An Ising Hamiltonian can be input into quantum optimizers such as VQE and QAOA. The Get_operator function is the term that creates the Ising Hamiltonian that can be fed into QAOA and VQE. For more information about <a href=\"https://repository.tudelft.nl/islandora/object/uuid%3A7438bfdc-7837-47a0-83fd-e14e09bef714\"> Ising Hamiltonians and QAOA in digestible form, see this link. </a>"
   ]
  },
  {
   "cell_type": "code",
   "execution_count": 36,
   "metadata": {},
   "outputs": [],
   "source": [
    "veh_ising = get_operator(instance, n, K) #Convert weight_matrix, using values of n (nodes) and K (Vehicles)\n",
    "veh_matrix = get_vehiclerouting_matrices(instance, n, K) #Construct auxxiliary matricies from a vehicle instance to create \n",
    "                                                         #binar quadratic program, constructions qubit ops and compute \n",
    "                                                         #solution cost \n",
    "offset_veh = veh_matrix[2] #Get  offset value from veh_matrix\n",
    "#print('Ising Hamiltonian:')\n",
    "#print(veh_ising.print_details())\n",
    "#print('Matrix')\n",
    "#print(veh_matrix)"
   ]
  },
  {
   "cell_type": "code",
   "execution_count": 37,
   "metadata": {},
   "outputs": [],
   "source": [
    "mod = QuadraticProgram()\n",
    "for i in range(n * (n - 1)):\n",
    "  mod.binary_var(str(i))\n",
    "mod.minimize(constant=veh_matrix[2], linear=veh_matrix[1], quadratic=veh_matrix[0])\n",
    "\n",
    "aqua_globals.random_seed = 10598\n",
    "\n",
    "quantum_instance = QuantumInstance(backend,\n",
    " seed_simulator=aqua_globals.random_seed,\n",
    " seed_transpiler=aqua_globals.random_seed, \n",
    " coupling_map=coup_map,  \n",
    " noise_model=noise_mod,)"
   ]
  },
  {
   "cell_type": "markdown",
   "metadata": {},
   "source": [
    "## Create Classical Result"
   ]
  },
  {
   "cell_type": "code",
   "execution_count": 38,
   "metadata": {},
   "outputs": [],
   "source": [
    "#Classic option\n",
    "exact_mes = NumPyMinimumEigensolver()\n",
    "exact = MinimumEigenOptimizer(exact_mes)\n",
    "exact_result = exact.solve(mod)\n",
    "#print(\"\\nNumpy Classic Minimum Eigensolver:\\n\", exact_result)\n",
    "\n",
    "x_quantum_clas, solution_clas, cost_clas = cost_sol(exact_result)"
   ]
  },
  {
   "cell_type": "markdown",
   "metadata": {},
   "source": [
    "## QAOA Solution\n",
    "Mathematically speaking, the vehicle routing problem (VRP) is a combinatorial problem, wherein the best routes from a depot to a number of clients and back to the depot are sought, given a number of available vehicles. Here, we present a formulation known as MTZ [Miller, Tucker, Zemlin, 1960]. we demonstrate an approach that combines classical and quantum computing steps, following the quantum approximate optimization approach of Farhi, Goldstone, and Gutman (2014). In particular, we use the variational quantum eigensolver (VQE). We stress that given the use of limited depth of the quantum circuits employed (variational forms), it is hard to discuss the speed-up of the algorithm, as the solution obtained is heuristic in nature. At the same time, due to the nature and importance of the target problems, it is worth investigating heuristic approaches, which may be worthwhile for some problem classes.\n",
    "\n",
    "Following [5], the algorithm can be summarized as follows: - Preparation steps: - Transform the combinatorial problem into a binary polynomial optimization problem with equality constraints only; - Map the resulting problem into an Ising Hamiltonian (H\n",
    ") for variables z and basis Z, via penalty methods if necessary; - Choose the depth of the quantum circuit m. Note that the depth can be modified adaptively. - Choose a set of controls θ and make a trial function ∣∣ψ(θ)⟩, built using a quantum circuit made of C-Phase gates and single-qubit Y rotations, parameterized by the components of θ.\n",
    "\n",
    "### Algorithm steps:\n",
    "\n",
    "● Evaluate C(θ)=⟨ψ(θ)∣∣H∣∣ψ(θ)⟩ by sampling the outcome of the circuit in the Z-basis and adding the expectation values of the  individual Ising terms together. In general, different control points around θ have to be estimated, depending on the classical optimizer chosen.\n",
    "\n",
    "● Use a classical optimizer to choose a new set of controls.\n",
    "\n",
    "● Continue until C(θ) reaches a minimum, close enough to the solution θ∗\n",
    "\n",
    "● Use the last θ to generate a final set of samples from the distribution ∣∣⟨zi∣∣ψ(θ)⟩∣∣2∀i to obtain the answer."
   ]
  },
  {
   "cell_type": "code",
   "execution_count": 39,
   "metadata": {},
   "outputs": [],
   "source": [
    "qaoa = QAOA(quantum_instance=quantum_instance)\n",
    "optimizer_qaoa = MinimumEigenOptimizer(min_eigen_solver=qaoa)\n",
    "result_qaoa = optimizer_qaoa.solve(mod)\n",
    "#print(\"The results of QAOA are +: \", result_qaoa)\n",
    "#x_quantum_qaoa, solution_qaoa, cost_qaoa = cost_sol(result_qaoa)"
   ]
  },
  {
   "cell_type": "markdown",
   "metadata": {},
   "source": [
    "## Create VQE Result\n",
    "\n",
    "VQE is a hybrid algorithm that uses a variational technique and interleaves quantum and classical computations in order to find the minimum eigenvalue of the Hamiltonian H of a given system.\n",
    "\n",
    "The quantum subroutine has two fundamental steps:\n",
    "\n",
    "● Prepare the quantum state |Ψ(vec(θ))⟩ often called the ansatz.\n",
    "\n",
    "● Measure the expectation value ⟨Ψ(vec(θ))|H|Ψ(vec(θ))⟩\n",
    "\n",
    "The variational principle ensures that this expectation value is always greater than the smallest eigenvalue of H\n",
    "."
   ]
  },
  {
   "cell_type": "code",
   "execution_count": 40,
   "metadata": {},
   "outputs": [],
   "source": [
    "vqe = VQE(quantum_instance=quantum_instance)\n",
    "optimizer = MinimumEigenOptimizer(min_eigen_solver=vqe)\n",
    "result_vqe = optimizer.solve(mod)\n",
    "#print(\"The results of VQE are : \", result_vqe, \"\\n\")\n",
    "#x_quantum_vqe, solution_vqe, cost_vqe = cost_sol(result_vqe)"
   ]
  },
  {
   "cell_type": "markdown",
   "metadata": {},
   "source": [
    "## Solution Plots\n",
    "\n",
    "The plots present the depot with points, and they start at star. The selected routes for the vehicles are represented with arrows."
   ]
  },
  {
   "cell_type": "code",
   "execution_count": 41,
   "metadata": {},
   "outputs": [
    {
     "name": "stdout",
     "output_type": "stream",
     "text": [
      "-------------------------------------------------------\n",
      "Classical Optimal value 124.8705\n",
      "-------------------------------------------------------\n",
      "QAOA performs equivalent to classical computer algorithm with value = 124.8705\n",
      " \n",
      "VQE performs equivalent than classical computer algorithm with value = 124.8705\n",
      "---------------------------------------------------\n"
     ]
    },
    {
     "data": {
      "image/png": "[encoded data removed]",
      "text/plain": [
       "<Figure size 432x288 with 1 Axes>"
      ]
     },
     "metadata": {
      "needs_background": "light"
     },
     "output_type": "display_data"
    },
    {
     "data": {
      "image/png": "[encoded data removed]",
      "text/plain": [
       "<Figure size 432x288 with 1 Axes>"
      ]
     },
     "metadata": {
      "needs_background": "light"
     },
     "output_type": "display_data"
    },
    {
     "data": {
      "image/png": "[encoded data removed]",
      "text/plain": [
       "<Figure size 432x288 with 1 Axes>"
      ]
     },
     "metadata": {
      "needs_background": "light"
     },
     "output_type": "display_data"
    }
   ],
   "source": [
    "x_quantum_qaoa, solution_qaoa, cost_qaoa, x_quantum_vqe, solution_vqe, cost_vqe = cost_sol_step2(result_vqe, result_qaoa)\n",
    "\n",
    "# visualize the solution \n",
    "visualize_solution(xc, yc, x_quantum_clas, cost_clas , n, K, 'Classical Result')                                                                                               \n",
    "visualize_solution(xc, yc, x_quantum_vqe, cost_vqe , n, K, 'Quantum VQE')\n",
    "visualize_solution(xc, yc, x_quantum_qaoa, cost_qaoa, n, K, 'Quantum QAOA')"
   ]
  },
  {
   "cell_type": "markdown",
   "metadata": {},
   "source": [
    "## The Model \n",
    "\n",
    "Mathematically speaking, the vehicle routing problem (VRP) is a combinatorial problem, wherein the best routes from a depot to a number of clients and back to the depot are sought, given a number of available vehicles. There are a number of formulations possible, extending a number of formulations of the traveling salesman problem [Applegate et al, 2006]. Here, we present a formulation known as MTZ [Miller, Tucker, Zemlin, 1960]. \n",
    "\n",
    "Let $n$ be the number of clients (indexed as $1,\\dots,n$), and $K$ be the number of available vehicles. Let $x_{ij} = \\{0,1\\}$ be the binary decision variable which, if it is $1$, activates the segment from node $i$ to node $j$. The node index runs from $0$ to $n$, where $0$ is (by convention) the depot. There are twice as many distinct decision variables as edges. For example, in a fully connected graph, there are $n(n+1)$ binary decision variables. \n",
    "\n",
    "If two nodes $i$ and $j$ have a link from $i$ to $j$, we write $i \\sim j$. We also denote with $\\delta(i)^+$ the set of nodes to which $i$ has a link, i.e., $j \\in \\delta(i)^+$ if and only if $i \\sim j$. Similarly, we denote with \n",
    "$\\delta(i)^-$ the set of nodes which are connected to $i$, in the sense that $j \\in \\delta(i)^-$ if and only if $j \\sim i$. \n",
    "\n",
    "In addition, we consider continuous variables, for all nodes $i = 1,\\dots, n$, denoted $u_i$. These variables are needed in the MTZ formulation of the problem to eliminate sub-tours between clients. \n",
    "\n",
    "The VRP can be formulated as:\n",
    "\n",
    "$$\n",
    "(VRP) \\quad  f = \\min_{\\{x_{ij}\\}_{i\\sim j}\\in \\{0,1\\}, \\{u_i\\}_{i=1,\\dots,n}\\in \\mathbb{R}} \\quad \\sum_{i \\sim j} w_{ij} x_{ij}\n",
    "$$\n",
    "\n",
    "subject to the node-visiting constraint:\n",
    "\n",
    "$$\n",
    "\\sum_{j \\in \\delta(i)^+} x_{ij} = 1, \\,\\sum_{j \\in \\delta(i)^-} x_{ji} = 1,\\, \\forall i \\in \\{1,\\dots,n\\},\n",
    "$$\n",
    "\n",
    "the depot-visiting constraints:\n",
    "\n",
    "$$\n",
    "\\sum_{i \\in \\delta(0)^+} x_{0i} = K, \\, \\sum_{j \\in \\delta(0)^+} x_{j0} = K,\n",
    "$$\n",
    "\n",
    "and the sub-tour elimination constraints:\n",
    "\n",
    "$$\n",
    "u_i - u_j + Q x_{ij} \\leq Q-q_j, \\, \\forall i \\sim j, \\,i ,j \\neq 0, \\quad q_i \\leq u_i \\leq Q,\\, \\forall i, i \\neq 0.\n",
    "$$\n",
    "\n",
    "In particular, \n",
    "- The cost function is linear in the cost functions and weighs the different arches based on a positive weight $w_{ij}>0$ (typically the distance between node $i$ and node $j$);\n",
    "- The first set of constraints enforce that from and to every client, only one link is allowed;\n",
    "- The second set of constraints enforce that from and to the depot, exactly  $K$ links are allowed;\n",
    "- The third set of constraints enforce the sub-tour elimination constraints and are bounds on $u_i$, with $Q>q_j>0$, and $Q,q_i \\in \\mathbb{R}$.\n",
    "\n",
    "\n",
    "## Classical solution\n",
    "\n",
    "We can solve the VRP classically, e.g., by using CPLEX. CPLEX uses a branch-and-bound-and-cut method to find an approximate solution of the VRP, which, in this formulation, is a mixed-integer linear program (MILP). For the sake of notation, we pack the decision variables in one vector as\n",
    "\n",
    "$$\n",
    "{\\bf z} = [x_{01},x_{02},\\ldots,x_{10}, x_{12},\\ldots,x_{n(n-1)}]^T,\n",
    "$$\n",
    "\n",
    "wherein ${\\bf z} \\in \\{0,1\\}^N$, with $N = n (n+1)$. So the dimension of the problem scales quadratically with the number of nodes. Let us denote the optimal solution by ${\\bf z}^*$, and the associated optimal cost $f^*$. \n",
    "\n",
    "\n",
    "## Quantum solution\n",
    "\n",
    "Here, we demonstrate an approach that combines classical and quantum computing steps, following the quantum approximate optimization approach of Farhi, Goldstone, and Gutman (2014). In particular, we use the variational quantum eigensolver (VQE). We stress that given the use of limited depth of the quantum circuits employed (variational forms), it is hard to discuss the speed-up of the algorithm, as the solution obtained is heuristic in nature. At the same time, due to the nature and importance of the target problems, it is worth investigating heuristic approaches, which may be worthwhile for some problem classes. \n",
    "\n",
    "Following [5], the algorithm can be summarized as follows:\n",
    "- Preparation steps: \n",
    "\t- Transform the combinatorial problem into a binary polynomial optimization problem with equality constraints only;\n",
    "\t- Map the resulting problem into an Ising Hamiltonian ($H$) for variables ${\\bf z}$ and basis $Z$, via penalty methods if necessary;\n",
    "\t- Choose the depth of the quantum circuit $m$. Note that the depth can be modified adaptively.\n",
    "\t- Choose a set of controls $\\theta$ and make a trial function $\\big|\\psi(\\boldsymbol\\theta)\\rangle$, built using a quantum circuit made of C-Phase gates and single-qubit Y rotations, parameterized by the components of $\\boldsymbol\\theta$.\n",
    "\n",
    "\n",
    "- Algorithm steps: \n",
    "\t- Evaluate $C(\\boldsymbol\\theta) = \\langle\\psi(\\boldsymbol\\theta)\\big|H\\big|\\psi(\\boldsymbol\\theta)\\rangle$ by sampling the outcome of the circuit in the Z-basis and adding the expectation values of the individual Ising terms together. In general, different control points around $\\boldsymbol\\theta$ have to be estimated, depending on the classical optimizer chosen.\n",
    "\t- Use a classical optimizer to choose a new set of controls.\n",
    "\t- Continue until $C(\\boldsymbol\\theta)$ reaches a minimum, close enough to the solution $\\boldsymbol\\theta^*$.\n",
    "\t- Use the last $\\boldsymbol\\theta$ to generate a final set of samples from the distribution $\\Big|\\langle z_i\\big|\\psi(\\boldsymbol\\theta)\\rangle\\Big|^2\\;\\forall i$ to obtain the answer.\n",
    "\n",
    "\n",
    "There are many parameters throughout, notably the choice of the trial wavefunction. Below, we consider:\n",
    "\n",
    "$$\n",
    "\\big|\\psi(\\theta)\\rangle = [U_\\mathrm{single}(\\boldsymbol\\theta) U_\\mathrm{entangler}]^m \\big|+\\rangle\n",
    "$$\n",
    "\n",
    "where $U_\\mathrm{entangler}$ is a collection of C-Phase gates (fully-entangling gates), and $U_\\mathrm{single}(\\theta) = \\prod_{i=1}^N Y(\\theta_{i})$, where $N$ is the number of qubits and $m$ is the depth of the quantum circuit. \n",
    "\n",
    "\n",
    "### Construct the Ising Hamiltonian\n",
    "\n",
    "From $VRP$ one can construct a binary polynomial optimization with equality constraints only by considering cases in which $K=n-1$. In these cases the sub-tour elimination constraints are not necessary and the problem is only on the variable ${\\bf z}$. In particular, we can write an augmented Lagrangian as\n",
    "\n",
    "$$\n",
    "(IH) \\quad H = \\sum_{i \\sim j} w_{ij} x_{ij}  + A \\sum_{i \\in \\{1,\\dots,n\\}} \\Big(\\sum_{j \\in \\delta(i)^+} x_{ij} - 1\\Big)^2 + A \\sum_{i \\in \\{1,\\dots,n\\}}\\Big(\\sum_{j \\in \\delta(i)^-} x_{ji} - 1\\Big)^2 +A \\Big(\\sum_{i \\in \\delta(0)^+} x_{0i} - K\\Big)^2 + A\\Big(\\sum_{j \\in \\delta(0)^+} x_{j0} - K\\Big)^2\n",
    "$$\n",
    "\n",
    "where $A$ is a big enough parameter. \n",
    "\n",
    "### From Hamiltonian to QP formulation \n",
    "\n",
    "In the vector ${\\bf z}$, and for a complete graph ($\\delta(i)^+ = \\delta(i)^- = \\{0,1,\\dots,i-1,i+1,\\dots,n\\}$), $H$ can be written as follows.\n",
    "\n",
    "$$\n",
    "\\min_{{\\bf z}\\in \\{0,1\\}^{n(n+1)}} {\\bf w}^T {\\bf z}  + A \\sum_{i \\in \\{1,\\dots,n\\}} \\Big({\\bf e}_i \\otimes {\\bf 1}_n^T {\\bf z} - 1\\Big)^2 + A \\sum_{i \\in \\{1,\\dots,n\\}}\\Big({\\bf v}_i^T {\\bf z} - 1\\Big)^2 + A \\Big(({\\bf e}_0 \\otimes {\\bf 1}_n)^T{\\bf z} - K\\Big)^2 + A\\Big({\\bf v}_0^T{\\bf z} - K\\Big)^2.\n",
    "$$\n",
    "\n",
    "That is:\n",
    "\n",
    "$$\n",
    "\\min_{\\bf z\\in \\{0,1\\}^{n(n+1)}} \\bf z^T {\\bf Q} \\bf z + {\\bf g}^T \\bf z + c,\n",
    "$$\n",
    "\n",
    "Where: first term:\n",
    "\n",
    "$$\n",
    "{\\bf Q} = A \\sum_{i \\in \\{0,1,\\dots,n\\}}  \\Big[({\\bf e}_i \\otimes {\\bf 1}_n)({\\bf e}_i \\otimes {\\bf 1}_n)^T + {\\bf v}_i{\\bf v}_i^T \\Big] \n",
    "$$\n",
    "\n",
    "Second term:\n",
    "\n",
    "$$\n",
    "{\\bf g} = {\\bf w} -2 A \\sum_{i \\in \\{1,\\dots,n\\}} \\Big[({\\bf e}_i \\otimes {\\bf 1}_n) + {\\bf v}_i \\Big] -2 A K \\Big[({\\bf e}_0 \\otimes {\\bf 1}_n) + {\\bf v}_0 \\Big]\n",
    "$$\n",
    "\n",
    "Third term:\n",
    "\n",
    "$$\n",
    "c = 2An +2AK^2.\n",
    "$$\n",
    "\n",
    "The QP formulation of the Ising Hamiltonian is ready for the use of VQE. We will solve the QP using optimization stack available in Qiskit."
   ]
  },
  {
   "cell_type": "markdown",
   "metadata": {},
   "source": [
    "## References \n",
    "\n",
    "[1] E. Farhi, J. Goldstone, S. Gutmann e-print arXiv 1411.4028, 2014\n",
    "\n",
    "[2] https://github.com/Qiskit/qiskit-tutorials/blob/master/tutorials/optimization/6_examples_max_cut_and_tsp.ipynb\n",
    "\n",
    "[3] C. E. Miller, E. W. Tucker, and R. A. Zemlin (1960). \"Integer Programming Formulations and Travelling Salesman Problems\". J. ACM. 7: 326–329. doi:10.1145/321043.321046.\n",
    "\n",
    "[4] D. L. Applegate, R. M. Bixby, V. Chvátal, and W. J. Cook (2006). The Traveling Salesman Problem. Princeton University Press, ISBN 978-0-691-12993-8."
   ]
  }
 ],
 "metadata": {
  "kernelspec": {
   "display_name": "Python 3",
   "language": "python",
   "name": "python3"
  },
  "language_info": {
   "codemirror_mode": {
    "name": "ipython",
    "version": 3
   },
   "file_extension": ".py",
   "mimetype": "text/x-python",
   "name": "python",
   "nbconvert_exporter": "python",
   "pygments_lexer": "ipython3",
   "version": "3.8.5"
  }
 },
 "nbformat": 4,
 "nbformat_minor": 4
}
